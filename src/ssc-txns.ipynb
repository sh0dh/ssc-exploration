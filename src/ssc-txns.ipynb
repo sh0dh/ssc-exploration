{
 "cells": [
  {
   "cell_type": "code",
   "execution_count": 266,
   "id": "be63562b",
   "metadata": {},
   "outputs": [],
   "source": [
    "import json\n",
    "import pandas as pd\n",
    "from time import sleep\n",
    "import asyncio\n",
    "from solana.rpc.async_api import AsyncClient\n",
    "from datetime import datetime\n",
    "from itertools import chain\n",
    "from pydantic import BaseModel, Json\n",
    "import requests\n",
    "from typing import Any"
   ]
  },
  {
   "cell_type": "markdown",
   "id": "43988a69",
   "metadata": {},
   "source": [
    "### Marketplace addrs:\n",
    "#### Thanks Levi for this gist: https://gist.github.com/levicook/34f390073bd57abebc786cda5bec4094"
   ]
  },
  {
   "cell_type": "code",
   "execution_count": 249,
   "id": "ad1aa582",
   "metadata": {},
   "outputs": [],
   "source": [
    "marketplace_mapper = {\n",
    "    \"HZaWndaNWHFDd9Dhk5pqUUtsmoBCqzb1MLu3NAh1VX6B\": \"AlphaArt\",\n",
    "    \"A7p8451ktDCHq5yYaHczeLMYsjRsAkzc3hCXcSrwYHU7\": \"DigitalEyes\",\n",
    "    \"AmK5g2XcyptVLCFESBCJqoSfwV3znGoVYQnqEnaAZKWn\": \"ExchangeArt\",\n",
    "    \"MEisE1HzehtrDpAAT8PnLHjpSSkRYakotTuJRPjTpo8\": \"MagicEden\",\n",
    "    \"CJsLwbP1iu5DuUikHEJnLfANgKy6stB2uFgvBBHoyxwz\": \"Solanart\"\n",
    "}\n",
    "\n",
    "marketplace_token_url_mapper = {\n",
    "    \"AlphaArt\": \"https://alpha.art/t/\",\n",
    "    \"DigitalEyes\": \"https://digitaleyes.market/item/\",\n",
    "    \"ExchangeArt\": \"https://exchange.art/single/\",\n",
    "    \"MagicEden\": \"https://magiceden.io/item-details/\",\n",
    "    \"Solanart\": \"https://solanart.io/search/\" # params: ?token=<>\n",
    "}\n",
    "\n",
    "marketplace_fetch_id_url = \"https://api-mainnet.magiceden.io/rpc/getNFTByMintAddress\""
   ]
  },
  {
   "cell_type": "markdown",
   "id": "20883810",
   "metadata": {},
   "source": [
    "### Setting up http client using genesysgo rpc"
   ]
  },
  {
   "cell_type": "code",
   "execution_count": 61,
   "id": "a085e901",
   "metadata": {},
   "outputs": [],
   "source": [
    "SSC_RPC_ENDPOINT = \"https://ssc-dao.genesysgo.net\"\n",
    "SOL_EXPLORER_RPC_ENDPOINT = \"https://explorer-api.mainnet-beta.solana.com\""
   ]
  },
  {
   "cell_type": "code",
   "execution_count": 73,
   "id": "b13a2fa8",
   "metadata": {},
   "outputs": [],
   "source": [
    "sol_client = AsyncClient(SSC_RPC_ENDPOINT)"
   ]
  },
  {
   "cell_type": "markdown",
   "id": "b1715f75",
   "metadata": {},
   "source": [
    "### Fetching data for all the accounts"
   ]
  },
  {
   "cell_type": "code",
   "execution_count": 67,
   "id": "6631baa1",
   "metadata": {},
   "outputs": [],
   "source": [
    "SSC_METADATA_JSON_URL = \"https://sld-gengo.s3.amazonaws.com\""
   ]
  },
  {
   "cell_type": "code",
   "execution_count": 68,
   "id": "052aeb99",
   "metadata": {},
   "outputs": [],
   "source": [
    "SSC_ADDR = \"D6wZ5U9onMC578mrKMp5PZtfyc5262426qKsYJW7nT3p\""
   ]
  },
  {
   "cell_type": "code",
   "execution_count": 69,
   "id": "a2dab0e6",
   "metadata": {},
   "outputs": [],
   "source": [
    "ssc_account_data = await sol_client.get_account_info(SSC_ADDR)"
   ]
  },
  {
   "cell_type": "code",
   "execution_count": 70,
   "id": "3f769996",
   "metadata": {
    "scrolled": true
   },
   "outputs": [
    {
     "data": {
      "text/plain": [
       "{'jsonrpc': '2.0',\n",
       " 'result': {'context': {'slot': 112104841},\n",
       "  'value': {'data': ['', 'base64'],\n",
       "   'executable': False,\n",
       "   'lamports': 957628287585,\n",
       "   'owner': '11111111111111111111111111111111',\n",
       "   'rentEpoch': 259}},\n",
       " 'id': 1}"
      ]
     },
     "execution_count": 70,
     "metadata": {},
     "output_type": "execute_result"
    }
   ],
   "source": [
    "ssc_account_data"
   ]
  },
  {
   "cell_type": "code",
   "execution_count": 18,
   "id": "38b1d049",
   "metadata": {},
   "outputs": [],
   "source": [
    "total_txns = await sol_client.get_transaction_count()"
   ]
  },
  {
   "cell_type": "code",
   "execution_count": 19,
   "id": "d5f1e926",
   "metadata": {},
   "outputs": [
    {
     "data": {
      "text/plain": [
       "{'jsonrpc': '2.0', 'result': 45865897950, 'id': 5}"
      ]
     },
     "execution_count": 19,
     "metadata": {},
     "output_type": "execute_result"
    }
   ],
   "source": [
    "total_txns"
   ]
  },
  {
   "cell_type": "code",
   "execution_count": 74,
   "id": "961371d8",
   "metadata": {},
   "outputs": [],
   "source": [
    "ssc_signatures = await sol_client.get_confirmed_signature_for_address2(SSC_ADDR)"
   ]
  },
  {
   "cell_type": "code",
   "execution_count": 75,
   "id": "d19afc5c",
   "metadata": {},
   "outputs": [
    {
     "data": {
      "text/plain": [
       "763"
      ]
     },
     "execution_count": 75,
     "metadata": {},
     "output_type": "execute_result"
    }
   ],
   "source": [
    "len(ssc_signatures[\"result\"])"
   ]
  },
  {
   "cell_type": "code",
   "execution_count": 76,
   "id": "12168429",
   "metadata": {},
   "outputs": [
    {
     "data": {
      "text/plain": [
       "{'blockTime': 1639272701,\n",
       " 'confirmationStatus': 'finalized',\n",
       " 'err': None,\n",
       " 'memo': None,\n",
       " 'signature': '3WbxAAnGHgsdzLz2BnN1EULSMWKxfM64SSsTvnVdfgFMYVPFVWp7WvF5i3957sjSCrxW1588AL74F2mv5y6yeTE1',\n",
       " 'slot': 111140025}"
      ]
     },
     "execution_count": 76,
     "metadata": {},
     "output_type": "execute_result"
    }
   ],
   "source": [
    "ssc_signatures[\"result\"][-1]"
   ]
  },
  {
   "cell_type": "code",
   "execution_count": 77,
   "id": "ba484119",
   "metadata": {},
   "outputs": [],
   "source": [
    "ssc_signatures_prev1 = await sol_client.get_signatures_for_address(\n",
    "    SSC_ADDR, \n",
    "    before=\"3WbxAAnGHgsdzLz2BnN1EULSMWKxfM64SSsTvnVdfgFMYVPFVWp7WvF5i3957sjSCrxW1588AL74F2mv5y6yeTE1\", limit=5)"
   ]
  },
  {
   "cell_type": "code",
   "execution_count": 120,
   "id": "29dfd250",
   "metadata": {},
   "outputs": [],
   "source": [
    "def fetch_time_diff(ts_start: datetime, ts_end: datetime, time_format: str = \"seconds\"):\n",
    "    return round((ts_end - ts_start).total_seconds(), 2)\n",
    "\n",
    "async def fetch_txn_batch(rpc_endpoint: str, batch_count: int, cursor_addr: str = None):\n",
    "    async with AsyncClient(rpc_endpoint) as sol_client:\n",
    "        ssc_signatures = await sol_client.get_confirmed_signature_for_address2(\n",
    "            SSC_ADDR,\n",
    "            limit=batch_count,\n",
    "            before=cursor_addr\n",
    "        )\n",
    "        result = []\n",
    "        if len(ssc_signatures[\"result\"]) != 0:\n",
    "            result = ssc_signatures[\"result\"]\n",
    "        return result\n",
    "\n",
    "async def fetch_all_txns_for_ssc(rpc_endpoint: str, batch_count: int = 500) -> pd.DataFrame:\n",
    "    ts_start = datetime.now()\n",
    "    txn_list = []\n",
    "    cursor_addr = None\n",
    "    while True:\n",
    "        txns = await fetch_txn_batch(rpc_endpoint=rpc_endpoint, \n",
    "                                               batch_count=batch_count,\n",
    "                                               cursor_addr=cursor_addr)\n",
    "        if len(txns) == 0:\n",
    "            ts_end = datetime.now()\n",
    "            break\n",
    "        cursor_addr = txns[-1][\"signature\"]\n",
    "        print(f\"Last txn: {cursor_addr} | Len: {len(txns)}\")\n",
    "        txn_list.append(txns)\n",
    "    final_txn_list = list(chain.from_iterable(txn_list))\n",
    "    print(f\"{len(final_txn_list)} signatures have been fetched in {fetch_time_diff(ts_start=ts_start, ts_end=ts_end)} secs\")\n",
    "    return final_txn_list"
   ]
  },
  {
   "cell_type": "code",
   "execution_count": 121,
   "id": "e1043b2b",
   "metadata": {},
   "outputs": [
    {
     "name": "stdout",
     "output_type": "stream",
     "text": [
      "Last txn: 23VRvtu1QZcP37RdSPYXuzLRZkeNprGwjSFgrzRGeiXQmP6upS5iTRc6vdSRG5sNU7nsFEbnZ5RaQ9ARUuUAF6An | Len: 500\n",
      "Last txn: Y3ubH5W2voTnwjZg3dtcEVvrPX4fu7p6vHcW7cwwX9Zd6Z1xEmfRYU39PmyhhVmFqyxfXe5CX4w94pnLx9BLKHC | Len: 500\n",
      "Last txn: 3kb32L5HMHpxjhYTXZB3vPgPN1dR8sarWxxmx8FZS8T4cVVe6pByxmdiuMSBbmhX4WHLzePnsjeKu7kfWgLoN46x | Len: 500\n",
      "Last txn: cskiTmfS3mn2ZcgSHEryHzqiTY28CEkf2HguEmKZCQzCRHvnMt8m3iJBxNsd14hLG2xS6qQRZYVkM1Qoa3jgfRG | Len: 500\n",
      "Last txn: 3BeZC1APLk4bDxFbLCeDhQiUKayHwpb9xWDdq3yQsJnnbV9yCi4zbKu558nK8JMqyeqafPjKExBbV7ceVbvgFKQH | Len: 500\n",
      "Last txn: 5sM11d8e5HPRJ3TGPYJNhmCSYC47f2V9YGPnmuMYz7wWiycRXPK2F9AajFrPyiom29bvtU7ehFHAZap7nnDy5EHp | Len: 500\n",
      "Last txn: 2zUsc78VfsNt7itN36YERx4XUEZxk8hhRfqjJHdMLT47N7VxfRo6UtkzrUcZe16LdKPAfmh7iSGtY5ALjXeKASw | Len: 500\n",
      "Last txn: 3PDNDhQvqTwt29nRc9GpXYhdZuF8psxKsH8fuUCvikEaw8jfZc9UDaS2bDMJWnp2SHeP3p2jFhKmcMmDpFhdK75q | Len: 500\n",
      "Last txn: 5UuMxxfaRPrWyRsDSi3CZwHuhEq7HJjUBFhdn5d56fyrYX4YdopcSVu448XzUAxgZsz37WHHkR6nJXXusuSxm81Q | Len: 431\n",
      "4431 signatures have been fetched in 10.4 secs\n"
     ]
    }
   ],
   "source": [
    "results = await fetch_all_txns_for_ssc(rpc_endpoint=EXPLORER_MAINNET_RPC_ENDPOINT)"
   ]
  },
  {
   "cell_type": "markdown",
   "id": "22e95d0e",
   "metadata": {},
   "source": [
    "### Fetching txn details"
   ]
  },
  {
   "cell_type": "code",
   "execution_count": 123,
   "id": "900e86e5",
   "metadata": {},
   "outputs": [
    {
     "data": {
      "text/plain": [
       "{'blockTime': 1639820827,\n",
       " 'confirmationStatus': 'finalized',\n",
       " 'err': None,\n",
       " 'memo': None,\n",
       " 'signature': '5VnTzUTY1xE2TmiUiJiRFMV9tXMbH7LA7QKPpo79UY2EP2QPw9fbpifCEHfV8LBRiwNwE7fnbMkyvrHhgLLy3T2o',\n",
       " 'slot': 112104216}"
      ]
     },
     "execution_count": 123,
     "metadata": {},
     "output_type": "execute_result"
    }
   ],
   "source": [
    "results[0]"
   ]
  },
  {
   "cell_type": "markdown",
   "id": "5e6a30a9",
   "metadata": {},
   "source": [
    "#### 1 SOL = 1_000_000_000 lamports"
   ]
  },
  {
   "cell_type": "code",
   "execution_count": 189,
   "id": "0a84248e",
   "metadata": {},
   "outputs": [],
   "source": [
    "def convert_lamport_to_sol(amount: float):\n",
    "    return amount / 1_000_000_000"
   ]
  },
  {
   "cell_type": "code",
   "execution_count": 164,
   "id": "b0cbdae5",
   "metadata": {},
   "outputs": [],
   "source": [
    "async def fetch_raw_txn_details(txn: str, rpc_endpoint: str=SSC_RPC_ENDPOINT):\n",
    "    async with AsyncClient(rpc_endpoint) as sol_client:\n",
    "        return await sol_client.get_transaction(txn)"
   ]
  },
  {
   "cell_type": "code",
   "execution_count": 165,
   "id": "1fe7e291",
   "metadata": {},
   "outputs": [],
   "source": [
    "deets = await fetch_raw_txn_details(results[850][\"signature\"], rpc_endpoint=EXPLORER_MAINNET_RPC_ENDPOINT)"
   ]
  },
  {
   "cell_type": "code",
   "execution_count": 183,
   "id": "da40a5cd",
   "metadata": {},
   "outputs": [],
   "source": [
    "post = deets[\"result\"][\"meta\"][\"postBalances\"]"
   ]
  },
  {
   "cell_type": "code",
   "execution_count": 184,
   "id": "00ee9c64",
   "metadata": {},
   "outputs": [],
   "source": [
    "pre = deets[\"result\"][\"meta\"][\"preBalances\"]"
   ]
  },
  {
   "cell_type": "code",
   "execution_count": 190,
   "id": "b8da7d86",
   "metadata": {},
   "outputs": [
    {
     "data": {
      "text/plain": [
       "[28.000005,\n",
       " 0.0,\n",
       " -26.04144768,\n",
       " 0.00144768,\n",
       " -0.56,\n",
       " 0.0,\n",
       " -1.4,\n",
       " 0.0,\n",
       " 0.0,\n",
       " 0.0,\n",
       " 0.0,\n",
       " 0.0]"
      ]
     },
     "execution_count": 190,
     "metadata": {},
     "output_type": "execute_result"
    }
   ],
   "source": [
    "[convert_lamport_to_sol(bals[0] - bals[1]) for bals in list(zip(pre, post))]"
   ]
  },
  {
   "cell_type": "code",
   "execution_count": 267,
   "id": "01cc0722",
   "metadata": {},
   "outputs": [],
   "source": [
    "class SscNftMetadata(BaseModel):\n",
    "    seller: str\n",
    "    purchaser: str\n",
    "    selling_price: float\n",
    "    seller_cut: float\n",
    "    marketplace: str\n",
    "    marketplace_contract_addr: str\n",
    "    nft_addr: str\n",
    "    nft_token_id: str # eg. Token id == SSC#4009\n",
    "    nft_image_url: str\n",
    "    nft_traits: Any\n",
    "    nft_marketplace_url: str"
   ]
  },
  {
   "cell_type": "code",
   "execution_count": 268,
   "id": "de94c8b4",
   "metadata": {},
   "outputs": [],
   "source": [
    "async def fetch_token_info(nft_addr: str):\n",
    "    resp = requests.get(f\"{marketplace_fetch_id_url}/{nft_addr}\")\n",
    "    print(resp.url)\n",
    "    if resp.status_code != 200:\n",
    "        return None\n",
    "    nft_metadata = resp.json()[\"results\"]\n",
    "    return nft_metadata[\"img\"], nft_metadata[\"attributes\"], nft_metadata[\"title\"], nft_metadata[\"content\"] "
   ]
  },
  {
   "cell_type": "code",
   "execution_count": 277,
   "id": "a925b8d2",
   "metadata": {},
   "outputs": [],
   "source": [
    "async def fetch_txn_details(txn: str, rpc_endpoint: str=SSC_RPC_ENDPOINT):\n",
    "    formatted_details = {}\n",
    "    async with AsyncClient(rpc_endpoint) as sol_client:\n",
    "        txn_details = await sol_client.get_transaction(txn)\n",
    "        nft_addr = txn_details[\"result\"][\"meta\"][\"postTokenBalances\"][0][\"mint\"]\n",
    "        pre_balances = txn_details[\"result\"][\"meta\"][\"preBalances\"]\n",
    "        post_balances = txn_details[\"result\"][\"meta\"][\"postBalances\"]\n",
    "        actual_balances = [convert_lamport_to_sol(bals[0] - bals[1]) for bals in list(zip(pre_balances, post_balances))]\n",
    "        addrs = txn_details[\"result\"][\"transaction\"][\"message\"][\"accountKeys\"]\n",
    "        balance_list = list(zip(addrs, actual_balances))\n",
    "        nft_metadata = await fetch_token_info(nft_addr=nft_addr)\n",
    "        marketplace_name = marketplace_mapper[balance_list[-1][0]]\n",
    "        metadata = SscNftMetadata(\n",
    "            seller=balance_list[2][0],\n",
    "            purchaser=balance_list[0][0],\n",
    "            selling_price=balance_list[0][1],\n",
    "            seller_cut=-1 * (balance_list[2][1]),\n",
    "            marketplace=marketplace_name,\n",
    "            marketplace_contract_addr=balance_list[-1][0],\n",
    "            nft_addr=nft_addr,\n",
    "            nft_token_id=nft_metadata[2],\n",
    "            nft_image_url=nft_metadata[0],\n",
    "            nft_traits=nft_metadata[1],\n",
    "            nft_marketplace_url=f\"{marketplace_token_url_mapper[marketplace_name]}{nft_addr}\"\n",
    "        )\n",
    "        return metadata.dict()"
   ]
  },
  {
   "cell_type": "code",
   "execution_count": 278,
   "id": "dc1028df",
   "metadata": {},
   "outputs": [
    {
     "name": "stdout",
     "output_type": "stream",
     "text": [
      "https://api-mainnet.magiceden.io/rpc/getNFTByMintAddress/AgQhbkA9zG5ri4fRVrbQXCKETTKz5g3kEa6JUjuNshwi\n"
     ]
    },
    {
     "data": {
      "text/plain": [
       "{'seller': '7PwyTH7PuCmndcUYhNL1hB22TVTdsss2Vof89zsaPoSy',\n",
       " 'purchaser': 'kXsgQVop8DkL75AfPG8Zrx7WyoYaKcZpC3L9hePzVXq',\n",
       " 'selling_price': 28.000005,\n",
       " 'seller_cut': 26.04144768,\n",
       " 'marketplace': 'MagicEden',\n",
       " 'marketplace_contract_addr': 'MEisE1HzehtrDpAAT8PnLHjpSSkRYakotTuJRPjTpo8',\n",
       " 'nft_addr': 'AgQhbkA9zG5ri4fRVrbQXCKETTKz5g3kEa6JUjuNshwi',\n",
       " 'nft_token_id': 'Shadowy Super Coder #231',\n",
       " 'nft_image_url': 'https://sld-gengo.s3.amazonaws.com/231.png',\n",
       " 'nft_traits': [{'trait_type': 'Background', 'value': 'Green'},\n",
       "  {'trait_type': 'Base Model', 'value': 'Tan'},\n",
       "  {'trait_type': 'Desk', 'value': 'Red Metal'},\n",
       "  {'trait_type': 'Monitor 1', 'value': 'Steven'},\n",
       "  {'trait_type': 'Monitor 2', 'value': 'Fabricpunk'},\n",
       "  {'trait_type': 'Monitor 3', 'value': 'Linux'},\n",
       "  {'trait_type': 'Mouth', 'value': 'Red Smirk'},\n",
       "  {'trait_type': 'Hoodie', 'value': 'Punk Hacker'},\n",
       "  {'trait_type': 'Favorite Programming Language', 'value': 'C#'}],\n",
       " 'nft_marketplace_url': 'https://magiceden.io/item-details/AgQhbkA9zG5ri4fRVrbQXCKETTKz5g3kEa6JUjuNshwi'}"
      ]
     },
     "execution_count": 278,
     "metadata": {},
     "output_type": "execute_result"
    }
   ],
   "source": [
    "await fetch_txn_details(results[850][\"signature\"], rpc_endpoint=EXPLORER_MAINNET_RPC_ENDPOINT)"
   ]
  },
  {
   "cell_type": "code",
   "execution_count": 279,
   "id": "61aab71b",
   "metadata": {},
   "outputs": [
    {
     "name": "stdout",
     "output_type": "stream",
     "text": [
      "https://api-mainnet.magiceden.io/rpc/getNFTByMintAddress/5QFF2Xh7Dnn8dzBFLyAZ3Ytrp2jdBDEqPn277FH98HVf\n"
     ]
    },
    {
     "data": {
      "text/plain": [
       "{'seller': 'ETf9WGPVpCZm4rAUvMx64EGpxLy1kjbdXhdCcg8fLYD5',\n",
       " 'purchaser': '2UH3RjR4dDw6GAMZAE4bXF2VqBHjATSV6MuJqXH288ch',\n",
       " 'selling_price': 46.300005,\n",
       " 'seller_cut': 43.06044768,\n",
       " 'marketplace': 'MagicEden',\n",
       " 'marketplace_contract_addr': 'MEisE1HzehtrDpAAT8PnLHjpSSkRYakotTuJRPjTpo8',\n",
       " 'nft_addr': '5QFF2Xh7Dnn8dzBFLyAZ3Ytrp2jdBDEqPn277FH98HVf',\n",
       " 'nft_token_id': 'Shadowy Super Coder #7167',\n",
       " 'nft_image_url': 'https://sld-gengo.s3.amazonaws.com/7167.png',\n",
       " 'nft_traits': [{'trait_type': 'Background', 'value': 'Green'},\n",
       "  {'trait_type': 'Base Model', 'value': 'Chestnut'},\n",
       "  {'trait_type': 'Desk', 'value': 'Red Metal'},\n",
       "  {'trait_type': 'Monitor 1', 'value': 'Trading Dark'},\n",
       "  {'trait_type': 'Monitor 2', 'value': 'Glitch Two'},\n",
       "  {'trait_type': 'Monitor 3', 'value': 'Hacked'},\n",
       "  {'trait_type': 'Mouth', 'value': 'Purple Smirk'},\n",
       "  {'trait_type': 'Hoodie', 'value': 'Unmasked Squid Game Hacker'},\n",
       "  {'trait_type': 'Favorite Programming Language', 'value': 'Go'}],\n",
       " 'nft_marketplace_url': 'https://magiceden.io/item-details/5QFF2Xh7Dnn8dzBFLyAZ3Ytrp2jdBDEqPn277FH98HVf'}"
      ]
     },
     "execution_count": 279,
     "metadata": {},
     "output_type": "execute_result"
    }
   ],
   "source": [
    "await fetch_txn_details(results[100][\"signature\"], rpc_endpoint=EXPLORER_MAINNET_RPC_ENDPOINT)"
   ]
  },
  {
   "cell_type": "code",
   "execution_count": 280,
   "id": "44543028",
   "metadata": {},
   "outputs": [
    {
     "name": "stdout",
     "output_type": "stream",
     "text": [
      "https://api-mainnet.magiceden.io/rpc/getNFTByMintAddress/38tpc8NhdaTjPu1Xa9qpYXpYnYpTjLFPM6VsY7rFKU8i\n"
     ]
    },
    {
     "data": {
      "text/plain": [
       "{'seller': 'GeRDkBTfLBPj8dN9r5DJYT4Xv9eayLhMUhEQ83EDocyE',\n",
       " 'purchaser': 'GQk1FGpgAC64vfxqZWjWBCreTT4ZRNg3aLGv6JxU2muJ',\n",
       " 'selling_price': 8.500005,\n",
       " 'seller_cut': 7.90644768,\n",
       " 'marketplace': 'MagicEden',\n",
       " 'marketplace_contract_addr': 'MEisE1HzehtrDpAAT8PnLHjpSSkRYakotTuJRPjTpo8',\n",
       " 'nft_addr': '38tpc8NhdaTjPu1Xa9qpYXpYnYpTjLFPM6VsY7rFKU8i',\n",
       " 'nft_token_id': 'Shadowy Super Coder #7133',\n",
       " 'nft_image_url': 'https://sld-gengo.s3.amazonaws.com/7133.png',\n",
       " 'nft_traits': [{'trait_type': 'Background', 'value': 'Pink'},\n",
       "  {'trait_type': 'Base Model', 'value': 'Pale'},\n",
       "  {'trait_type': 'Desk', 'value': 'Bronze Metal'},\n",
       "  {'trait_type': 'Monitor 1', 'value': 'Linux'},\n",
       "  {'trait_type': 'Monitor 2', 'value': 'Glitch Two'},\n",
       "  {'trait_type': 'Monitor 3', 'value': 'Star Atlas'},\n",
       "  {'trait_type': 'Mouth', 'value': 'Purple Smile'},\n",
       "  {'trait_type': 'Hoodie', 'value': 'Monke Hacker'},\n",
       "  {'trait_type': 'Favorite Programming Language', 'value': 'Python'}],\n",
       " 'nft_marketplace_url': 'https://magiceden.io/item-details/38tpc8NhdaTjPu1Xa9qpYXpYnYpTjLFPM6VsY7rFKU8i'}"
      ]
     },
     "execution_count": 280,
     "metadata": {},
     "output_type": "execute_result"
    }
   ],
   "source": [
    "await fetch_txn_details(results[4000][\"signature\"], rpc_endpoint=EXPLORER_MAINNET_RPC_ENDPOINT)"
   ]
  },
  {
   "cell_type": "code",
   "execution_count": 281,
   "id": "6175e463",
   "metadata": {},
   "outputs": [
    {
     "name": "stdout",
     "output_type": "stream",
     "text": [
      "https://api-mainnet.magiceden.io/rpc/getNFTByMintAddress/FXuP8jDdxWSSFc6AS7kf9hkE1fp6BaNThNx2CwahWQ7P\n"
     ]
    },
    {
     "data": {
      "text/plain": [
       "{'seller': '97N4Ktgqy1rcGBmpJigjy8wZk9mECtZ86GdboeXYUq8V',\n",
       " 'purchaser': '8QRR52guaXe46roHE8tW7KQ62GRRnbfxXmhdKBRmVtwu',\n",
       " 'selling_price': 35.000005,\n",
       " 'seller_cut': 32.55144768,\n",
       " 'marketplace': 'MagicEden',\n",
       " 'marketplace_contract_addr': 'MEisE1HzehtrDpAAT8PnLHjpSSkRYakotTuJRPjTpo8',\n",
       " 'nft_addr': 'FXuP8jDdxWSSFc6AS7kf9hkE1fp6BaNThNx2CwahWQ7P',\n",
       " 'nft_token_id': 'Shadowy Super Coder #8453',\n",
       " 'nft_image_url': 'https://sld-gengo.s3.amazonaws.com/8453.png',\n",
       " 'nft_traits': [{'trait_type': 'Background', 'value': 'Light-Orange'},\n",
       "  {'trait_type': 'Base Model', 'value': 'Tan'},\n",
       "  {'trait_type': 'Desk', 'value': 'Silver Metal'},\n",
       "  {'trait_type': 'Monitor 1', 'value': 'Linux'},\n",
       "  {'trait_type': 'Monitor 2', 'value': 'Access Granted'},\n",
       "  {'trait_type': 'Monitor 3', 'value': 'Scoopshop'},\n",
       "  {'trait_type': 'Mouth', 'value': 'Red Smile'},\n",
       "  {'trait_type': 'Hoodie', 'value': 'Squid Game Hacker'},\n",
       "  {'trait_type': 'Favorite Programming Language', 'value': 'R'}],\n",
       " 'nft_marketplace_url': 'https://magiceden.io/item-details/FXuP8jDdxWSSFc6AS7kf9hkE1fp6BaNThNx2CwahWQ7P'}"
      ]
     },
     "execution_count": 281,
     "metadata": {},
     "output_type": "execute_result"
    }
   ],
   "source": [
    "await fetch_txn_details(results[200][\"signature\"], rpc_endpoint=EXPLORER_MAINNET_RPC_ENDPOINT)"
   ]
  },
  {
   "cell_type": "code",
   "execution_count": 282,
   "id": "f8b11bae",
   "metadata": {},
   "outputs": [
    {
     "name": "stdout",
     "output_type": "stream",
     "text": [
      "https://api-mainnet.magiceden.io/rpc/getNFTByMintAddress/85TGW42Q96CqAKwMrTY8Zq9nuAbRQVJdkvSQfWxK1FGp\n"
     ]
    },
    {
     "data": {
      "text/plain": [
       "{'seller': 'HH2yy6E9iBAXqUsw65i1YWBUo1akdjPsfft5wGU51su2',\n",
       " 'purchaser': '78rZtPQwnvojcpKh1VJfUEvKi9BC6hFRMxjq5jv8qpEf',\n",
       " 'selling_price': 44.000005,\n",
       " 'seller_cut': 40.92144768,\n",
       " 'marketplace': 'MagicEden',\n",
       " 'marketplace_contract_addr': 'MEisE1HzehtrDpAAT8PnLHjpSSkRYakotTuJRPjTpo8',\n",
       " 'nft_addr': '85TGW42Q96CqAKwMrTY8Zq9nuAbRQVJdkvSQfWxK1FGp',\n",
       " 'nft_token_id': 'Shadowy Super Coder #6347',\n",
       " 'nft_image_url': 'https://sld-gengo.s3.amazonaws.com/6347.png',\n",
       " 'nft_traits': [{'trait_type': 'Background', 'value': 'Light-Blue'},\n",
       "  {'trait_type': 'Base Model', 'value': 'Pale'},\n",
       "  {'trait_type': 'Desk', 'value': 'Silver Metal'},\n",
       "  {'trait_type': 'Monitor 1', 'value': 'Trading White'},\n",
       "  {'trait_type': 'Monitor 2', 'value': 'Hacked'},\n",
       "  {'trait_type': 'Monitor 3', 'value': 'Ninja'},\n",
       "  {'trait_type': 'Mouth', 'value': 'Pink Smirk'},\n",
       "  {'trait_type': 'Hoodie', 'value': 'Punk Hacker'},\n",
       "  {'trait_type': 'Favorite Programming Language', 'value': 'C'}],\n",
       " 'nft_marketplace_url': 'https://magiceden.io/item-details/85TGW42Q96CqAKwMrTY8Zq9nuAbRQVJdkvSQfWxK1FGp'}"
      ]
     },
     "execution_count": 282,
     "metadata": {},
     "output_type": "execute_result"
    }
   ],
   "source": [
    "await fetch_txn_details(results[10][\"signature\"], rpc_endpoint=EXPLORER_MAINNET_RPC_ENDPOINT)"
   ]
  },
  {
   "cell_type": "code",
   "execution_count": 283,
   "id": "be378ced",
   "metadata": {},
   "outputs": [
    {
     "name": "stdout",
     "output_type": "stream",
     "text": [
      "https://api-mainnet.magiceden.io/rpc/getNFTByMintAddress/3m9BreHL2FUFgnK5FHngr1wVf5kshVre1EMtbSjPZ1Cz\n"
     ]
    },
    {
     "data": {
      "text/plain": [
       "{'seller': 'EUozZKRKemnTk3PaGGXE18TCs8uJZZagxbdCL5U4hWF6',\n",
       " 'purchaser': '4REnZop7oP5yJcxUevLwUqGWsGf2SA6MY8tdQfTaQbNk',\n",
       " 'selling_price': 44.500005,\n",
       " 'seller_cut': 41.38644768,\n",
       " 'marketplace': 'MagicEden',\n",
       " 'marketplace_contract_addr': 'MEisE1HzehtrDpAAT8PnLHjpSSkRYakotTuJRPjTpo8',\n",
       " 'nft_addr': '3m9BreHL2FUFgnK5FHngr1wVf5kshVre1EMtbSjPZ1Cz',\n",
       " 'nft_token_id': 'Shadowy Super Coder #280',\n",
       " 'nft_image_url': 'https://sld-gengo.s3.amazonaws.com/280.png',\n",
       " 'nft_traits': [{'trait_type': 'Background', 'value': 'Dark-Red'},\n",
       "  {'trait_type': 'Base Model', 'value': 'Pale'},\n",
       "  {'trait_type': 'Desk', 'value': 'Purple Metal'},\n",
       "  {'trait_type': 'Monitor 1', 'value': 'Trading Dark'},\n",
       "  {'trait_type': 'Monitor 2', 'value': 'Matrix'},\n",
       "  {'trait_type': 'Monitor 3', 'value': 'Glitch Two'},\n",
       "  {'trait_type': 'Mouth', 'value': 'Red Smirk'},\n",
       "  {'trait_type': 'Hoodie', 'value': 'Sci-Fi Hacker'},\n",
       "  {'trait_type': 'Favorite Programming Language', 'value': 'C++'}],\n",
       " 'nft_marketplace_url': 'https://magiceden.io/item-details/3m9BreHL2FUFgnK5FHngr1wVf5kshVre1EMtbSjPZ1Cz'}"
      ]
     },
     "execution_count": 283,
     "metadata": {},
     "output_type": "execute_result"
    }
   ],
   "source": [
    "await fetch_txn_details(results[0][\"signature\"], rpc_endpoint=EXPLORER_MAINNET_RPC_ENDPOINT)"
   ]
  },
  {
   "cell_type": "code",
   "execution_count": 284,
   "id": "a403877b",
   "metadata": {},
   "outputs": [
    {
     "name": "stdout",
     "output_type": "stream",
     "text": [
      "https://api-mainnet.magiceden.io/rpc/getNFTByMintAddress/CJGqBx5GJT6JwVcz5V437MTC1bsMjNHfJCv7XQUA2n7F\n"
     ]
    },
    {
     "data": {
      "text/plain": [
       "{'seller': 'FaoTWCDskkJH6iro4kDrugWzE61smKhXqFJhDWoGBzVf',\n",
       " 'purchaser': 'SgpSEypfA5M9h4Pnx7KUFR5xCQgosi7gBAkodCsqrYY',\n",
       " 'selling_price': 5e-06,\n",
       " 'seller_cut': -0.0,\n",
       " 'marketplace': 'Solanart',\n",
       " 'marketplace_contract_addr': 'CJsLwbP1iu5DuUikHEJnLfANgKy6stB2uFgvBBHoyxwz',\n",
       " 'nft_addr': 'CJGqBx5GJT6JwVcz5V437MTC1bsMjNHfJCv7XQUA2n7F',\n",
       " 'nft_token_id': 'Shadowy Super Coder #8654',\n",
       " 'nft_image_url': 'https://sld-gengo.s3.amazonaws.com/8654.png',\n",
       " 'nft_traits': [{'trait_type': 'Background', 'value': 'Noire'},\n",
       "  {'trait_type': 'Base Model', 'value': 'Chestnut'},\n",
       "  {'trait_type': 'Desk', 'value': 'Red Metal'},\n",
       "  {'trait_type': 'Monitor 1', 'value': 'Matrix'},\n",
       "  {'trait_type': 'Monitor 2', 'value': 'Samo'},\n",
       "  {'trait_type': 'Monitor 3', 'value': 'Levi Korg'},\n",
       "  {'trait_type': 'Mouth', 'value': 'Purple Smirk'},\n",
       "  {'trait_type': 'Hoodie', 'value': 'Tech Hacker'},\n",
       "  {'trait_type': 'Favorite Programming Language', 'value': 'Solidity'}],\n",
       " 'nft_marketplace_url': 'https://solanart.io/search/CJGqBx5GJT6JwVcz5V437MTC1bsMjNHfJCv7XQUA2n7F'}"
      ]
     },
     "execution_count": 284,
     "metadata": {},
     "output_type": "execute_result"
    }
   ],
   "source": [
    "await fetch_txn_details(\"5yZNYqNi13NDTzW5BdDHucJpeG6SumL1y4G3AwfBiTgVdJpb1d12RmaisSM7yi3r1nHuaLLmQQHvLwkSrzr3Z5TG\")"
   ]
  },
  {
   "cell_type": "code",
   "execution_count": null,
   "id": "5f0bf028",
   "metadata": {},
   "outputs": [],
   "source": []
  },
  {
   "cell_type": "code",
   "execution_count": null,
   "id": "00a59d1d",
   "metadata": {},
   "outputs": [],
   "source": []
  }
 ],
 "metadata": {
  "kernelspec": {
   "display_name": "Python 3 (ipykernel)",
   "language": "python",
   "name": "python3"
  },
  "language_info": {
   "codemirror_mode": {
    "name": "ipython",
    "version": 3
   },
   "file_extension": ".py",
   "mimetype": "text/x-python",
   "name": "python",
   "nbconvert_exporter": "python",
   "pygments_lexer": "ipython3",
   "version": "3.9.6"
  }
 },
 "nbformat": 4,
 "nbformat_minor": 5
}
