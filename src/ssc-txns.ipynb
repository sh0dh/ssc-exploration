{
 "cells": [
  {
   "cell_type": "code",
   "execution_count": 62,
   "id": "be63562b",
   "metadata": {},
   "outputs": [],
   "source": [
    "import json\n",
    "import pandas as pd\n",
    "from time import sleep\n",
    "import asyncio\n",
    "from solana.rpc.async_api import AsyncClient\n",
    "from datetime import datetime\n",
    "from itertools import chain\n",
    "from pydantic import BaseModel, Json\n",
    "import requests\n",
    "from typing import Any\n",
    "from solana.rpc.types import MemcmpOpts"
   ]
  },
  {
   "cell_type": "markdown",
   "id": "43988a69",
   "metadata": {},
   "source": [
    "### Marketplace addrs:\n",
    "#### Thanks Levi for this gist: https://gist.github.com/levicook/34f390073bd57abebc786cda5bec4094"
   ]
  },
  {
   "cell_type": "code",
   "execution_count": 2,
   "id": "ad1aa582",
   "metadata": {},
   "outputs": [],
   "source": [
    "marketplace_mapper = {\n",
    "    \"HZaWndaNWHFDd9Dhk5pqUUtsmoBCqzb1MLu3NAh1VX6B\": \"AlphaArt\",\n",
    "    \"A7p8451ktDCHq5yYaHczeLMYsjRsAkzc3hCXcSrwYHU7\": \"DigitalEyes\",\n",
    "    \"AmK5g2XcyptVLCFESBCJqoSfwV3znGoVYQnqEnaAZKWn\": \"ExchangeArt\",\n",
    "    \"MEisE1HzehtrDpAAT8PnLHjpSSkRYakotTuJRPjTpo8\": \"MagicEden\",\n",
    "    \"CJsLwbP1iu5DuUikHEJnLfANgKy6stB2uFgvBBHoyxwz\": \"Solanart\"\n",
    "}\n",
    "\n",
    "marketplace_token_url_mapper = {\n",
    "    \"AlphaArt\": \"https://alpha.art/t/\",\n",
    "    \"DigitalEyes\": \"https://digitaleyes.market/item/\",\n",
    "    \"ExchangeArt\": \"https://exchange.art/single/\",\n",
    "    \"MagicEden\": \"https://magiceden.io/item-details/\",\n",
    "    \"Solanart\": \"https://solanart.io/search/\" # params: ?token=<>\n",
    "}\n",
    "\n",
    "marketplace_fetch_id_url = \"https://api-mainnet.magiceden.io/rpc/getNFTByMintAddress\""
   ]
  },
  {
   "cell_type": "markdown",
   "id": "20883810",
   "metadata": {},
   "source": [
    "### Setting up http client using genesysgo rpc"
   ]
  },
  {
   "cell_type": "code",
   "execution_count": 3,
   "id": "a085e901",
   "metadata": {},
   "outputs": [],
   "source": [
    "SSC_RPC_ENDPOINT = \"https://ssc-dao.genesysgo.net\"\n",
    "SOL_EXPLORER_RPC_ENDPOINT = \"https://explorer-api.mainnet-beta.solana.com\""
   ]
  },
  {
   "cell_type": "code",
   "execution_count": 48,
   "id": "b13a2fa8",
   "metadata": {},
   "outputs": [],
   "source": [
    "sol_client = AsyncClient(SSC_RPC_ENDPOINT)"
   ]
  },
  {
   "cell_type": "markdown",
   "id": "b1715f75",
   "metadata": {},
   "source": [
    "### Fetching data for all the accounts"
   ]
  },
  {
   "cell_type": "code",
   "execution_count": 25,
   "id": "6631baa1",
   "metadata": {},
   "outputs": [],
   "source": [
    "SSC_METADATA_JSON_URL = \"https://sld-gengo.s3.amazonaws.com\"\n",
    "# \"https://sld-gengo.s3.amazonaws.com/3965.json\""
   ]
  },
  {
   "cell_type": "code",
   "execution_count": 26,
   "id": "052aeb99",
   "metadata": {},
   "outputs": [],
   "source": [
    "SSC_ADDR = \"D6wZ5U9onMC578mrKMp5PZtfyc5262426qKsYJW7nT3p\""
   ]
  },
  {
   "cell_type": "code",
   "execution_count": 49,
   "id": "a2dab0e6",
   "metadata": {},
   "outputs": [],
   "source": [
    "ssc_account_data = await sol_client.get_account_info(SSC_ADDR)"
   ]
  },
  {
   "cell_type": "code",
   "execution_count": 50,
   "id": "3f769996",
   "metadata": {
    "scrolled": true
   },
   "outputs": [
    {
     "data": {
      "text/plain": [
       "{'jsonrpc': '2.0',\n",
       " 'result': {'context': {'slot': 113858477},\n",
       "  'value': {'data': ['', 'base64'],\n",
       "   'executable': False,\n",
       "   'lamports': 599009609443,\n",
       "   'owner': '11111111111111111111111111111111',\n",
       "   'rentEpoch': 263}},\n",
       " 'id': 1}"
      ]
     },
     "execution_count": 50,
     "metadata": {},
     "output_type": "execute_result"
    }
   ],
   "source": [
    "ssc_account_data"
   ]
  },
  {
   "cell_type": "code",
   "execution_count": 51,
   "id": "38b1d049",
   "metadata": {},
   "outputs": [],
   "source": [
    "total_txns = await sol_client.get_transaction_count()"
   ]
  },
  {
   "cell_type": "code",
   "execution_count": 52,
   "id": "d5f1e926",
   "metadata": {},
   "outputs": [
    {
     "data": {
      "text/plain": [
       "{'jsonrpc': '2.0', 'result': 48353358883, 'id': 2}"
      ]
     },
     "execution_count": 52,
     "metadata": {},
     "output_type": "execute_result"
    }
   ],
   "source": [
    "total_txns"
   ]
  },
  {
   "cell_type": "code",
   "execution_count": 53,
   "id": "961371d8",
   "metadata": {},
   "outputs": [],
   "source": [
    "ssc_signatures = await sol_client.get_confirmed_signature_for_address2(SSC_ADDR, limit=500)"
   ]
  },
  {
   "cell_type": "code",
   "execution_count": 54,
   "id": "d19afc5c",
   "metadata": {},
   "outputs": [
    {
     "data": {
      "text/plain": [
       "500"
      ]
     },
     "execution_count": 54,
     "metadata": {},
     "output_type": "execute_result"
    }
   ],
   "source": [
    "len(ssc_signatures[\"result\"])"
   ]
  },
  {
   "cell_type": "code",
   "execution_count": 55,
   "id": "12168429",
   "metadata": {},
   "outputs": [
    {
     "data": {
      "text/plain": [
       "{'blockTime': 1640185393,\n",
       " 'confirmationStatus': 'finalized',\n",
       " 'err': None,\n",
       " 'memo': None,\n",
       " 'signature': 'eTTkwqKyAwUaAXtWiwr1v9EaQ1NhabjNmDE64Bc7AEdE49eaY9udCkBywFjhTfiFvK16nocbv5pGqx3hb8d4siW',\n",
       " 'slot': 112758893}"
      ]
     },
     "execution_count": 55,
     "metadata": {},
     "output_type": "execute_result"
    }
   ],
   "source": [
    "ssc_signatures[\"result\"][-1]"
   ]
  },
  {
   "cell_type": "code",
   "execution_count": 22,
   "id": "ba484119",
   "metadata": {},
   "outputs": [],
   "source": [
    "ssc_signatures_prev1 = await sol_client.get_signatures_for_address(\n",
    "    SSC_ADDR, \n",
    "    before=\"65rTamEzboobANuQAXbfJFPGZtATRZGa5kVCSbPJJNbYzK32HXvoe3gYFSEpiXb23D1hDYrxLWw1RK8dBdVoaeZ7\", limit=5)"
   ]
  },
  {
   "cell_type": "code",
   "execution_count": 23,
   "id": "4e4b4864",
   "metadata": {},
   "outputs": [
    {
     "data": {
      "text/plain": [
       "{'jsonrpc': '2.0', 'result': [], 'id': 6}"
      ]
     },
     "execution_count": 23,
     "metadata": {},
     "output_type": "execute_result"
    }
   ],
   "source": [
    "ssc_signatures_prev1"
   ]
  },
  {
   "cell_type": "code",
   "execution_count": 17,
   "id": "29dfd250",
   "metadata": {},
   "outputs": [],
   "source": [
    "def fetch_time_diff(ts_start: datetime, ts_end: datetime, time_format: str = \"seconds\"):\n",
    "    return round((ts_end - ts_start).total_seconds(), 2)\n",
    "\n",
    "async def fetch_txn_batch(rpc_endpoint: str, batch_count: int, cursor_addr: str = None):\n",
    "    async with AsyncClient(rpc_endpoint) as sol_client:\n",
    "        ssc_signatures = await sol_client.get_confirmed_signature_for_address2(\n",
    "            SSC_ADDR,\n",
    "            limit=batch_count,\n",
    "            before=cursor_addr\n",
    "        )\n",
    "        result = []\n",
    "        if len(ssc_signatures[\"result\"]) != 0:\n",
    "            result = ssc_signatures[\"result\"]\n",
    "        return result\n",
    "\n",
    "async def fetch_all_txns_for_ssc(rpc_endpoint: str, batch_count: int = 500) -> pd.DataFrame:\n",
    "    ts_start = datetime.now()\n",
    "    txn_list = []\n",
    "    cursor_addr = None\n",
    "    while True:\n",
    "        txns = await fetch_txn_batch(rpc_endpoint=rpc_endpoint, \n",
    "                                               batch_count=batch_count,\n",
    "                                               cursor_addr=cursor_addr)\n",
    "        if len(txns) == 0:\n",
    "            ts_end = datetime.now()\n",
    "            break\n",
    "        cursor_addr = txns[-1][\"signature\"]\n",
    "        print(f\"Last txn: {cursor_addr} | Len: {len(txns)}\")\n",
    "        txn_list.append(txns)\n",
    "    final_txn_list = list(chain.from_iterable(txn_list))\n",
    "    print(f\"{len(final_txn_list)} signatures have been fetched in {fetch_time_diff(ts_start=ts_start, ts_end=ts_end)} secs\")\n",
    "    return final_txn_list"
   ]
  },
  {
   "cell_type": "code",
   "execution_count": 20,
   "id": "e1043b2b",
   "metadata": {},
   "outputs": [
    {
     "name": "stdout",
     "output_type": "stream",
     "text": [
      "Last txn: eTTkwqKyAwUaAXtWiwr1v9EaQ1NhabjNmDE64Bc7AEdE49eaY9udCkBywFjhTfiFvK16nocbv5pGqx3hb8d4siW | Len: 500\n",
      "Last txn: 5VM3meV3RHiHMXp8YEr3AEzE6euKhPhbxADgFGu5uLCE34pYtY62KbDH8GWkkdVXPxwArNYzcJxwPJxcQycARTHN | Len: 500\n",
      "Last txn: 65T2gWyYaeh9Qjb8yDDKzKhgSQcAG8DPv3CRzXLibgqvQ4wR7bRXXxE38QfDWwtdjjuSLnR1SQgnG1ntj8PQBssp | Len: 500\n",
      "Last txn: 65rTamEzboobANuQAXbfJFPGZtATRZGa5kVCSbPJJNbYzK32HXvoe3gYFSEpiXb23D1hDYrxLWw1RK8dBdVoaeZ7 | Len: 500\n",
      "2000 signatures have been fetched in 12.22 secs\n"
     ]
    }
   ],
   "source": [
    "results = await fetch_all_txns_for_ssc(rpc_endpoint=SSC_RPC_ENDPOINT)"
   ]
  },
  {
   "cell_type": "markdown",
   "id": "22e95d0e",
   "metadata": {},
   "source": [
    "### Fetching txn details"
   ]
  },
  {
   "cell_type": "code",
   "execution_count": 18,
   "id": "900e86e5",
   "metadata": {},
   "outputs": [
    {
     "data": {
      "text/plain": [
       "{'blockTime': 1639886694,\n",
       " 'confirmationStatus': 'finalized',\n",
       " 'err': None,\n",
       " 'memo': None,\n",
       " 'signature': '44MGvZAXdRYbnwZgGcM6z696NCy5UfvX1XkVgURjafuEx5ujvN4dj31xUAeC5zST46RkKEALcLZU5h2CbVt47eSp',\n",
       " 'slot': 112226117}"
      ]
     },
     "execution_count": 18,
     "metadata": {},
     "output_type": "execute_result"
    }
   ],
   "source": [
    "results[0]"
   ]
  },
  {
   "cell_type": "markdown",
   "id": "5e6a30a9",
   "metadata": {},
   "source": [
    "#### 1 SOL = 1_000_000_000 lamports"
   ]
  },
  {
   "cell_type": "code",
   "execution_count": 28,
   "id": "0a84248e",
   "metadata": {},
   "outputs": [],
   "source": [
    "def convert_lamport_to_sol(amount: float):\n",
    "    return amount / 1_000_000_000"
   ]
  },
  {
   "cell_type": "code",
   "execution_count": 29,
   "id": "b0cbdae5",
   "metadata": {},
   "outputs": [],
   "source": [
    "async def fetch_raw_txn_details(txn: str, rpc_endpoint: str=SSC_RPC_ENDPOINT):\n",
    "    async with AsyncClient(rpc_endpoint) as sol_client:\n",
    "        return await sol_client.get_transaction(txn)"
   ]
  },
  {
   "cell_type": "code",
   "execution_count": 30,
   "id": "1fe7e291",
   "metadata": {},
   "outputs": [],
   "source": [
    "deets = await fetch_raw_txn_details(results[850][\"signature\"], rpc_endpoint=SSC_RPC_ENDPOINT)"
   ]
  },
  {
   "cell_type": "code",
   "execution_count": 31,
   "id": "da40a5cd",
   "metadata": {},
   "outputs": [],
   "source": [
    "post = deets[\"result\"][\"meta\"][\"postBalances\"]"
   ]
  },
  {
   "cell_type": "code",
   "execution_count": 32,
   "id": "00ee9c64",
   "metadata": {},
   "outputs": [],
   "source": [
    "pre = deets[\"result\"][\"meta\"][\"preBalances\"]"
   ]
  },
  {
   "cell_type": "code",
   "execution_count": 33,
   "id": "b8da7d86",
   "metadata": {},
   "outputs": [
    {
     "data": {
      "text/plain": [
       "[40.500005,\n",
       " 0.0,\n",
       " -37.66644768,\n",
       " 0.00144768,\n",
       " -0.81,\n",
       " 0.0,\n",
       " -2.025,\n",
       " 0.0,\n",
       " 0.0,\n",
       " 0.0,\n",
       " 0.0,\n",
       " 0.0]"
      ]
     },
     "execution_count": 33,
     "metadata": {},
     "output_type": "execute_result"
    }
   ],
   "source": [
    "[convert_lamport_to_sol(bals[0] - bals[1]) for bals in list(zip(pre, post))]"
   ]
  },
  {
   "cell_type": "code",
   "execution_count": 34,
   "id": "01cc0722",
   "metadata": {},
   "outputs": [],
   "source": [
    "class SscNftMetadata(BaseModel):\n",
    "    seller: str\n",
    "    purchaser: str\n",
    "    selling_price: float\n",
    "    seller_cut: float\n",
    "    marketplace: str\n",
    "    marketplace_contract_addr: str\n",
    "    nft_addr: str\n",
    "    nft_token_id: str # eg. Token id == SSC#4009\n",
    "    nft_image_url: str\n",
    "    nft_traits: Any\n",
    "    nft_marketplace_url: str"
   ]
  },
  {
   "cell_type": "code",
   "execution_count": 35,
   "id": "de94c8b4",
   "metadata": {},
   "outputs": [],
   "source": [
    "async def fetch_token_info(nft_addr: str):\n",
    "    resp = requests.get(f\"{marketplace_fetch_id_url}/{nft_addr}\")\n",
    "    print(resp.url)\n",
    "    if resp.status_code != 200:\n",
    "        return None\n",
    "    nft_metadata = resp.json()[\"results\"]\n",
    "    return nft_metadata[\"img\"], nft_metadata[\"attributes\"], nft_metadata[\"title\"], nft_metadata[\"content\"] "
   ]
  },
  {
   "cell_type": "code",
   "execution_count": 36,
   "id": "a925b8d2",
   "metadata": {},
   "outputs": [],
   "source": [
    "async def fetch_txn_details(txn: str, rpc_endpoint: str=SSC_RPC_ENDPOINT):\n",
    "    formatted_details = {}\n",
    "    async with AsyncClient(rpc_endpoint) as sol_client:\n",
    "        txn_details = await sol_client.get_transaction(txn)\n",
    "        nft_addr = txn_details[\"result\"][\"meta\"][\"postTokenBalances\"][0][\"mint\"]\n",
    "        pre_balances = txn_details[\"result\"][\"meta\"][\"preBalances\"]\n",
    "        post_balances = txn_details[\"result\"][\"meta\"][\"postBalances\"]\n",
    "        actual_balances = [convert_lamport_to_sol(bals[0] - bals[1]) for bals in list(zip(pre_balances, post_balances))]\n",
    "        addrs = txn_details[\"result\"][\"transaction\"][\"message\"][\"accountKeys\"]\n",
    "        balance_list = list(zip(addrs, actual_balances))\n",
    "        nft_metadata = await fetch_token_info(nft_addr=nft_addr)\n",
    "        marketplace_name = marketplace_mapper[balance_list[-1][0]]\n",
    "        metadata = SscNftMetadata(\n",
    "            seller=balance_list[2][0],\n",
    "            purchaser=balance_list[0][0],\n",
    "            selling_price=balance_list[0][1],\n",
    "            seller_cut=-1 * (balance_list[2][1]),\n",
    "            marketplace=marketplace_name,\n",
    "            marketplace_contract_addr=balance_list[-1][0],\n",
    "            nft_addr=nft_addr,\n",
    "            nft_token_id=nft_metadata[2],\n",
    "            nft_image_url=nft_metadata[0],\n",
    "            nft_traits=nft_metadata[1],\n",
    "            nft_marketplace_url=f\"{marketplace_token_url_mapper[marketplace_name]}{nft_addr}\"\n",
    "        )\n",
    "        return metadata.dict()"
   ]
  },
  {
   "cell_type": "code",
   "execution_count": 38,
   "id": "dc1028df",
   "metadata": {},
   "outputs": [
    {
     "name": "stdout",
     "output_type": "stream",
     "text": [
      "https://api-mainnet.magiceden.io/rpc/getNFTByMintAddress/6yzxN42EzAp9uJUxwafi9TAWNqY4rMKxhpG3AZYTDyXc\n"
     ]
    },
    {
     "data": {
      "text/plain": [
       "{'seller': 'CznocEx6VgqqsBZhBJZwweQjxPZEwxZTLhSysNbhqJwm',\n",
       " 'purchaser': '8fcVsdDKtPRwNjwgMHoxxFt2VW4mw2d5PduDyjgANc1j',\n",
       " 'selling_price': 40.500005,\n",
       " 'seller_cut': 37.66644768,\n",
       " 'marketplace': 'MagicEden',\n",
       " 'marketplace_contract_addr': 'MEisE1HzehtrDpAAT8PnLHjpSSkRYakotTuJRPjTpo8',\n",
       " 'nft_addr': '6yzxN42EzAp9uJUxwafi9TAWNqY4rMKxhpG3AZYTDyXc',\n",
       " 'nft_token_id': 'Shadowy Super Coder #8250',\n",
       " 'nft_image_url': 'https://sld-gengo.s3.amazonaws.com/8250.png',\n",
       " 'nft_traits': [{'trait_type': 'Background', 'value': 'Magenta'},\n",
       "  {'trait_type': 'Base Model', 'value': 'Tan'},\n",
       "  {'trait_type': 'Desk', 'value': 'Silver Metal'},\n",
       "  {'trait_type': 'Monitor 1', 'value': 'Goo'},\n",
       "  {'trait_type': 'Monitor 2', 'value': 'Linux'},\n",
       "  {'trait_type': 'Monitor 3', 'value': 'Hacked'},\n",
       "  {'trait_type': 'Mouth', 'value': 'Purple Smirk'},\n",
       "  {'trait_type': 'Hoodie', 'value': 'Tron Hacker'},\n",
       "  {'trait_type': 'Favorite Programming Language', 'value': 'Java'}],\n",
       " 'nft_marketplace_url': 'https://magiceden.io/item-details/6yzxN42EzAp9uJUxwafi9TAWNqY4rMKxhpG3AZYTDyXc'}"
      ]
     },
     "execution_count": 38,
     "metadata": {},
     "output_type": "execute_result"
    }
   ],
   "source": [
    "await fetch_txn_details(results[850][\"signature\"], rpc_endpoint=SSC_RPC_ENDPOINT)"
   ]
  },
  {
   "cell_type": "code",
   "execution_count": 39,
   "id": "61aab71b",
   "metadata": {},
   "outputs": [
    {
     "name": "stdout",
     "output_type": "stream",
     "text": [
      "https://api-mainnet.magiceden.io/rpc/getNFTByMintAddress/54NY9idmKtBvLcZjfmxQkyAJRMwbTN4YD7pDZ6ByVCgM\n"
     ]
    },
    {
     "data": {
      "text/plain": [
       "{'seller': '6GQErHmLEx37atnLuCSqhTRntz5vkkj3gBzQGzYsuenZ',\n",
       " 'purchaser': '3vnDhqKYCWMKjAe9Y6K5d4NCz9zuzTarGX1mjew5Ca9c',\n",
       " 'selling_price': 72.000005,\n",
       " 'seller_cut': 66.96144768,\n",
       " 'marketplace': 'MagicEden',\n",
       " 'marketplace_contract_addr': 'MEisE1HzehtrDpAAT8PnLHjpSSkRYakotTuJRPjTpo8',\n",
       " 'nft_addr': '54NY9idmKtBvLcZjfmxQkyAJRMwbTN4YD7pDZ6ByVCgM',\n",
       " 'nft_token_id': 'Shadowy Super Coder #3705',\n",
       " 'nft_image_url': 'https://sld-gengo.s3.amazonaws.com/3705.png',\n",
       " 'nft_traits': [{'trait_type': 'Background', 'value': 'Gold'},\n",
       "  {'trait_type': 'Base Model', 'value': 'Tan'},\n",
       "  {'trait_type': 'Desk', 'value': 'Bronze Metal'},\n",
       "  {'trait_type': 'Monitor 1', 'value': 'Trading Dark'},\n",
       "  {'trait_type': 'Monitor 2', 'value': 'Matrix'},\n",
       "  {'trait_type': 'Monitor 3', 'value': 'Trading Dark'},\n",
       "  {'trait_type': 'Mouth', 'value': 'Red Smile'},\n",
       "  {'trait_type': 'Hoodie', 'value': 'Cat-Ear Hacker'},\n",
       "  {'trait_type': 'Favorite Programming Language', 'value': 'Rust'}],\n",
       " 'nft_marketplace_url': 'https://magiceden.io/item-details/54NY9idmKtBvLcZjfmxQkyAJRMwbTN4YD7pDZ6ByVCgM'}"
      ]
     },
     "execution_count": 39,
     "metadata": {},
     "output_type": "execute_result"
    }
   ],
   "source": [
    "await fetch_txn_details(results[100][\"signature\"], rpc_endpoint=SSC_RPC_ENDPOINT)"
   ]
  },
  {
   "cell_type": "code",
   "execution_count": 42,
   "id": "44543028",
   "metadata": {},
   "outputs": [
    {
     "ename": "TypeError",
     "evalue": "'NoneType' object is not subscriptable",
     "output_type": "error",
     "traceback": [
      "\u001b[0;31m---------------------------------------------------------------------------\u001b[0m",
      "\u001b[0;31mTypeError\u001b[0m                                 Traceback (most recent call last)",
      "\u001b[0;32m/var/folders/d2/jw74dsb57mzbyspd_lk14njc0000gn/T/ipykernel_66345/3098988239.py\u001b[0m in \u001b[0;36m<module>\u001b[0;34m\u001b[0m\n\u001b[0;32m----> 1\u001b[0;31m \u001b[0;32mawait\u001b[0m \u001b[0mfetch_txn_details\u001b[0m\u001b[0;34m(\u001b[0m\u001b[0mresults\u001b[0m\u001b[0;34m[\u001b[0m\u001b[0;36m1998\u001b[0m\u001b[0;34m]\u001b[0m\u001b[0;34m[\u001b[0m\u001b[0;34m\"signature\"\u001b[0m\u001b[0;34m]\u001b[0m\u001b[0;34m,\u001b[0m \u001b[0mrpc_endpoint\u001b[0m\u001b[0;34m=\u001b[0m\u001b[0mSSC_RPC_ENDPOINT\u001b[0m\u001b[0;34m)\u001b[0m\u001b[0;34m\u001b[0m\u001b[0;34m\u001b[0m\u001b[0m\n\u001b[0m",
      "\u001b[0;32m/var/folders/d2/jw74dsb57mzbyspd_lk14njc0000gn/T/ipykernel_66345/3614823781.py\u001b[0m in \u001b[0;36mfetch_txn_details\u001b[0;34m(txn, rpc_endpoint)\u001b[0m\n\u001b[1;32m      3\u001b[0m     \u001b[0;32masync\u001b[0m \u001b[0;32mwith\u001b[0m \u001b[0mAsyncClient\u001b[0m\u001b[0;34m(\u001b[0m\u001b[0mrpc_endpoint\u001b[0m\u001b[0;34m)\u001b[0m \u001b[0;32mas\u001b[0m \u001b[0msol_client\u001b[0m\u001b[0;34m:\u001b[0m\u001b[0;34m\u001b[0m\u001b[0;34m\u001b[0m\u001b[0m\n\u001b[1;32m      4\u001b[0m         \u001b[0mtxn_details\u001b[0m \u001b[0;34m=\u001b[0m \u001b[0;32mawait\u001b[0m \u001b[0msol_client\u001b[0m\u001b[0;34m.\u001b[0m\u001b[0mget_transaction\u001b[0m\u001b[0;34m(\u001b[0m\u001b[0mtxn\u001b[0m\u001b[0;34m)\u001b[0m\u001b[0;34m\u001b[0m\u001b[0;34m\u001b[0m\u001b[0m\n\u001b[0;32m----> 5\u001b[0;31m         \u001b[0mnft_addr\u001b[0m \u001b[0;34m=\u001b[0m \u001b[0mtxn_details\u001b[0m\u001b[0;34m[\u001b[0m\u001b[0;34m\"result\"\u001b[0m\u001b[0;34m]\u001b[0m\u001b[0;34m[\u001b[0m\u001b[0;34m\"meta\"\u001b[0m\u001b[0;34m]\u001b[0m\u001b[0;34m[\u001b[0m\u001b[0;34m\"postTokenBalances\"\u001b[0m\u001b[0;34m]\u001b[0m\u001b[0;34m[\u001b[0m\u001b[0;36m0\u001b[0m\u001b[0;34m]\u001b[0m\u001b[0;34m[\u001b[0m\u001b[0;34m\"mint\"\u001b[0m\u001b[0;34m]\u001b[0m\u001b[0;34m\u001b[0m\u001b[0;34m\u001b[0m\u001b[0m\n\u001b[0m\u001b[1;32m      6\u001b[0m         \u001b[0mpre_balances\u001b[0m \u001b[0;34m=\u001b[0m \u001b[0mtxn_details\u001b[0m\u001b[0;34m[\u001b[0m\u001b[0;34m\"result\"\u001b[0m\u001b[0;34m]\u001b[0m\u001b[0;34m[\u001b[0m\u001b[0;34m\"meta\"\u001b[0m\u001b[0;34m]\u001b[0m\u001b[0;34m[\u001b[0m\u001b[0;34m\"preBalances\"\u001b[0m\u001b[0;34m]\u001b[0m\u001b[0;34m\u001b[0m\u001b[0;34m\u001b[0m\u001b[0m\n\u001b[1;32m      7\u001b[0m         \u001b[0mpost_balances\u001b[0m \u001b[0;34m=\u001b[0m \u001b[0mtxn_details\u001b[0m\u001b[0;34m[\u001b[0m\u001b[0;34m\"result\"\u001b[0m\u001b[0;34m]\u001b[0m\u001b[0;34m[\u001b[0m\u001b[0;34m\"meta\"\u001b[0m\u001b[0;34m]\u001b[0m\u001b[0;34m[\u001b[0m\u001b[0;34m\"postBalances\"\u001b[0m\u001b[0;34m]\u001b[0m\u001b[0;34m\u001b[0m\u001b[0;34m\u001b[0m\u001b[0m\n",
      "\u001b[0;31mTypeError\u001b[0m: 'NoneType' object is not subscriptable"
     ]
    }
   ],
   "source": [
    "await fetch_txn_details(results[1998][\"signature\"], rpc_endpoint=SSC_RPC_ENDPOINT)"
   ]
  },
  {
   "cell_type": "code",
   "execution_count": 43,
   "id": "6175e463",
   "metadata": {},
   "outputs": [
    {
     "name": "stdout",
     "output_type": "stream",
     "text": [
      "https://api-mainnet.magiceden.io/rpc/getNFTByMintAddress/CAWzZt8AVb8xD6EK1JhkRHpq58U4e31oDGWvfjzLzCnz\n"
     ]
    },
    {
     "data": {
      "text/plain": [
       "{'seller': '3zKPWGbYNaPoBv2rqoAJ9QTQxUcyMMadPFCmtj3273wU',\n",
       " 'purchaser': 'D9WydY3gGUoJjPnRmrbV5jfAnviJ5TCReMHeaBogZ9dg',\n",
       " 'selling_price': 84.880005,\n",
       " 'seller_cut': 78.93984768,\n",
       " 'marketplace': 'MagicEden',\n",
       " 'marketplace_contract_addr': 'MEisE1HzehtrDpAAT8PnLHjpSSkRYakotTuJRPjTpo8',\n",
       " 'nft_addr': 'CAWzZt8AVb8xD6EK1JhkRHpq58U4e31oDGWvfjzLzCnz',\n",
       " 'nft_token_id': 'Shadowy Super Coder #3708',\n",
       " 'nft_image_url': 'https://sld-gengo.s3.amazonaws.com/3708.png',\n",
       " 'nft_traits': [{'trait_type': 'Background', 'value': 'Green'},\n",
       "  {'trait_type': 'Base Model', 'value': 'Pale'},\n",
       "  {'trait_type': 'Desk', 'value': 'Bronze Metal'},\n",
       "  {'trait_type': 'Monitor 1', 'value': 'Glitch Two'},\n",
       "  {'trait_type': 'Monitor 2', 'value': 'Access Granted'},\n",
       "  {'trait_type': 'Monitor 3', 'value': 'Glitch One'},\n",
       "  {'trait_type': 'Mouth', 'value': 'Purple Smirk'},\n",
       "  {'trait_type': 'Hoodie', 'value': 'Squid Game Hacker'},\n",
       "  {'trait_type': 'Favorite Programming Language', 'value': 'Fortran'}],\n",
       " 'nft_marketplace_url': 'https://magiceden.io/item-details/CAWzZt8AVb8xD6EK1JhkRHpq58U4e31oDGWvfjzLzCnz'}"
      ]
     },
     "execution_count": 43,
     "metadata": {},
     "output_type": "execute_result"
    }
   ],
   "source": [
    "await fetch_txn_details(results[200][\"signature\"], rpc_endpoint=SSC_RPC_ENDPOINT)"
   ]
  },
  {
   "cell_type": "code",
   "execution_count": 44,
   "id": "f8b11bae",
   "metadata": {},
   "outputs": [
    {
     "name": "stdout",
     "output_type": "stream",
     "text": [
      "https://api-mainnet.magiceden.io/rpc/getNFTByMintAddress/5vijUSg4ZUTAtD5S2n4r1jBEsG3KT1ZiE1NVj2k6jB1G\n"
     ]
    },
    {
     "data": {
      "text/plain": [
       "{'seller': '6GQErHmLEx37atnLuCSqhTRntz5vkkj3gBzQGzYsuenZ',\n",
       " 'purchaser': '3gc7tTph3waXqfhox8Ln9m4BkrzSvSQQYsxdd9U7Btk9',\n",
       " 'selling_price': 80.000005,\n",
       " 'seller_cut': 74.40144768,\n",
       " 'marketplace': 'MagicEden',\n",
       " 'marketplace_contract_addr': 'MEisE1HzehtrDpAAT8PnLHjpSSkRYakotTuJRPjTpo8',\n",
       " 'nft_addr': '5vijUSg4ZUTAtD5S2n4r1jBEsG3KT1ZiE1NVj2k6jB1G',\n",
       " 'nft_token_id': 'Shadowy Super Coder #5464',\n",
       " 'nft_image_url': 'https://sld-gengo.s3.amazonaws.com/5464.png',\n",
       " 'nft_traits': [{'trait_type': 'Background', 'value': 'Light-Yellow'},\n",
       "  {'trait_type': 'Base Model', 'value': 'Pale'},\n",
       "  {'trait_type': 'Desk', 'value': 'Silver Metal'},\n",
       "  {'trait_type': 'Monitor 1', 'value': 'Matrix'},\n",
       "  {'trait_type': 'Monitor 2', 'value': 'Linux'},\n",
       "  {'trait_type': 'Monitor 3', 'value': 'Matrix'},\n",
       "  {'trait_type': 'Mouth', 'value': 'Pink Smirk'},\n",
       "  {'trait_type': 'Hoodie', 'value': 'Shark Hacker'},\n",
       "  {'trait_type': 'Favorite Programming Language', 'value': 'Java'}],\n",
       " 'nft_marketplace_url': 'https://magiceden.io/item-details/5vijUSg4ZUTAtD5S2n4r1jBEsG3KT1ZiE1NVj2k6jB1G'}"
      ]
     },
     "execution_count": 44,
     "metadata": {},
     "output_type": "execute_result"
    }
   ],
   "source": [
    "await fetch_txn_details(results[10][\"signature\"], rpc_endpoint=SSC_RPC_ENDPOINT)"
   ]
  },
  {
   "cell_type": "code",
   "execution_count": 45,
   "id": "be378ced",
   "metadata": {},
   "outputs": [
    {
     "name": "stdout",
     "output_type": "stream",
     "text": [
      "https://api-mainnet.magiceden.io/rpc/getNFTByMintAddress/4z6seZ1EQbUJ5zyEcF85TrhECp3QeFkzh9Zt745YMv74\n"
     ]
    },
    {
     "data": {
      "text/plain": [
       "{'seller': '6GQErHmLEx37atnLuCSqhTRntz5vkkj3gBzQGzYsuenZ',\n",
       " 'purchaser': '9uvwcE7xKqbhTcuQMyU6oJLEQnqD23VaJ4xvEaKpB7ya',\n",
       " 'selling_price': 80.000005,\n",
       " 'seller_cut': 74.40144768,\n",
       " 'marketplace': 'MagicEden',\n",
       " 'marketplace_contract_addr': 'MEisE1HzehtrDpAAT8PnLHjpSSkRYakotTuJRPjTpo8',\n",
       " 'nft_addr': '4z6seZ1EQbUJ5zyEcF85TrhECp3QeFkzh9Zt745YMv74',\n",
       " 'nft_token_id': 'Shadowy Super Coder #4817',\n",
       " 'nft_image_url': 'https://sld-gengo.s3.amazonaws.com/4817.png',\n",
       " 'nft_traits': [{'trait_type': 'Background', 'value': 'Dark-Red'},\n",
       "  {'trait_type': 'Base Model', 'value': 'Chestnut'},\n",
       "  {'trait_type': 'Desk', 'value': 'Bronze Metal'},\n",
       "  {'trait_type': 'Monitor 1', 'value': 'Access Granted'},\n",
       "  {'trait_type': 'Monitor 2', 'value': 'Barret'},\n",
       "  {'trait_type': 'Monitor 3', 'value': 'Future Finance'},\n",
       "  {'trait_type': 'Mouth', 'value': 'Pink Smile'},\n",
       "  {'trait_type': 'Hoodie', 'value': 'Neon Solana Hacker'},\n",
       "  {'trait_type': 'Favorite Programming Language', 'value': 'Go'}],\n",
       " 'nft_marketplace_url': 'https://magiceden.io/item-details/4z6seZ1EQbUJ5zyEcF85TrhECp3QeFkzh9Zt745YMv74'}"
      ]
     },
     "execution_count": 45,
     "metadata": {},
     "output_type": "execute_result"
    }
   ],
   "source": [
    "await fetch_txn_details(results[0][\"signature\"], rpc_endpoint=SSC_RPC_ENDPOINT)"
   ]
  },
  {
   "cell_type": "code",
   "execution_count": 46,
   "id": "a403877b",
   "metadata": {},
   "outputs": [
    {
     "ename": "TypeError",
     "evalue": "'NoneType' object is not subscriptable",
     "output_type": "error",
     "traceback": [
      "\u001b[0;31m---------------------------------------------------------------------------\u001b[0m",
      "\u001b[0;31mTypeError\u001b[0m                                 Traceback (most recent call last)",
      "\u001b[0;32m/var/folders/d2/jw74dsb57mzbyspd_lk14njc0000gn/T/ipykernel_66345/2687960591.py\u001b[0m in \u001b[0;36m<module>\u001b[0;34m\u001b[0m\n\u001b[0;32m----> 1\u001b[0;31m \u001b[0;32mawait\u001b[0m \u001b[0mfetch_txn_details\u001b[0m\u001b[0;34m(\u001b[0m\u001b[0;34m\"5yZNYqNi13NDTzW5BdDHucJpeG6SumL1y4G3AwfBiTgVdJpb1d12RmaisSM7yi3r1nHuaLLmQQHvLwkSrzr3Z5TG\"\u001b[0m\u001b[0;34m)\u001b[0m\u001b[0;34m\u001b[0m\u001b[0;34m\u001b[0m\u001b[0m\n\u001b[0m",
      "\u001b[0;32m/var/folders/d2/jw74dsb57mzbyspd_lk14njc0000gn/T/ipykernel_66345/3614823781.py\u001b[0m in \u001b[0;36mfetch_txn_details\u001b[0;34m(txn, rpc_endpoint)\u001b[0m\n\u001b[1;32m      3\u001b[0m     \u001b[0;32masync\u001b[0m \u001b[0;32mwith\u001b[0m \u001b[0mAsyncClient\u001b[0m\u001b[0;34m(\u001b[0m\u001b[0mrpc_endpoint\u001b[0m\u001b[0;34m)\u001b[0m \u001b[0;32mas\u001b[0m \u001b[0msol_client\u001b[0m\u001b[0;34m:\u001b[0m\u001b[0;34m\u001b[0m\u001b[0;34m\u001b[0m\u001b[0m\n\u001b[1;32m      4\u001b[0m         \u001b[0mtxn_details\u001b[0m \u001b[0;34m=\u001b[0m \u001b[0;32mawait\u001b[0m \u001b[0msol_client\u001b[0m\u001b[0;34m.\u001b[0m\u001b[0mget_transaction\u001b[0m\u001b[0;34m(\u001b[0m\u001b[0mtxn\u001b[0m\u001b[0;34m)\u001b[0m\u001b[0;34m\u001b[0m\u001b[0;34m\u001b[0m\u001b[0m\n\u001b[0;32m----> 5\u001b[0;31m         \u001b[0mnft_addr\u001b[0m \u001b[0;34m=\u001b[0m \u001b[0mtxn_details\u001b[0m\u001b[0;34m[\u001b[0m\u001b[0;34m\"result\"\u001b[0m\u001b[0;34m]\u001b[0m\u001b[0;34m[\u001b[0m\u001b[0;34m\"meta\"\u001b[0m\u001b[0;34m]\u001b[0m\u001b[0;34m[\u001b[0m\u001b[0;34m\"postTokenBalances\"\u001b[0m\u001b[0;34m]\u001b[0m\u001b[0;34m[\u001b[0m\u001b[0;36m0\u001b[0m\u001b[0;34m]\u001b[0m\u001b[0;34m[\u001b[0m\u001b[0;34m\"mint\"\u001b[0m\u001b[0;34m]\u001b[0m\u001b[0;34m\u001b[0m\u001b[0;34m\u001b[0m\u001b[0m\n\u001b[0m\u001b[1;32m      6\u001b[0m         \u001b[0mpre_balances\u001b[0m \u001b[0;34m=\u001b[0m \u001b[0mtxn_details\u001b[0m\u001b[0;34m[\u001b[0m\u001b[0;34m\"result\"\u001b[0m\u001b[0;34m]\u001b[0m\u001b[0;34m[\u001b[0m\u001b[0;34m\"meta\"\u001b[0m\u001b[0;34m]\u001b[0m\u001b[0;34m[\u001b[0m\u001b[0;34m\"preBalances\"\u001b[0m\u001b[0;34m]\u001b[0m\u001b[0;34m\u001b[0m\u001b[0;34m\u001b[0m\u001b[0m\n\u001b[1;32m      7\u001b[0m         \u001b[0mpost_balances\u001b[0m \u001b[0;34m=\u001b[0m \u001b[0mtxn_details\u001b[0m\u001b[0;34m[\u001b[0m\u001b[0;34m\"result\"\u001b[0m\u001b[0;34m]\u001b[0m\u001b[0;34m[\u001b[0m\u001b[0;34m\"meta\"\u001b[0m\u001b[0;34m]\u001b[0m\u001b[0;34m[\u001b[0m\u001b[0;34m\"postBalances\"\u001b[0m\u001b[0;34m]\u001b[0m\u001b[0;34m\u001b[0m\u001b[0;34m\u001b[0m\u001b[0m\n",
      "\u001b[0;31mTypeError\u001b[0m: 'NoneType' object is not subscriptable"
     ]
    }
   ],
   "source": [
    "await fetch_txn_details(\"5yZNYqNi13NDTzW5BdDHucJpeG6SumL1y4G3AwfBiTgVdJpb1d12RmaisSM7yi3r1nHuaLLmQQHvLwkSrzr3Z5TG\")"
   ]
  },
  {
   "cell_type": "markdown",
   "id": "b81593aa",
   "metadata": {},
   "source": [
    "### Get all mint addresses\n",
    "\n",
    "Above method to get all txns is probably very great to fetch txns, but inorder to get all the mints we need to use the `getProgramAccounts` function"
   ]
  },
  {
   "cell_type": "code",
   "execution_count": 56,
   "id": "36cb5c72",
   "metadata": {},
   "outputs": [
    {
     "data": {
      "text/plain": [
       "{'jsonrpc': '2.0', 'result': [], 'id': 4}"
      ]
     },
     "execution_count": 56,
     "metadata": {},
     "output_type": "execute_result"
    }
   ],
   "source": [
    "await sol_client.get_program_accounts(SSC_ADDR)"
   ]
  },
  {
   "cell_type": "code",
   "execution_count": 72,
   "id": "00a59d1d",
   "metadata": {},
   "outputs": [
    {
     "name": "stdout",
     "output_type": "stream",
     "text": [
      "total records: 0\n"
     ]
    }
   ],
   "source": [
    "# url=\"https://api.mainnet-beta.solana.com\"\n",
    "# url=\"https://solana-api.projectserum.com\"\n",
    "METADATA_PROGRAM_ID=\"metaqbxxUerdq28cj1RbAWkYQm3ybzjb6a8bt518x1s\"\n",
    "MAX_NAME_LENGTH = 32;\n",
    "MAX_URI_LENGTH = 200;\n",
    "MAX_SYMBOL_LENGTH = 10;\n",
    "MAX_CREATOR_LEN = 32 + 1 + 1;\n",
    "\n",
    "creatorIndex=0\n",
    "creatorAddress=\"Bhr9iWx7vAZ4JDD5DVSdHxQLqG9RvCLCSXvu6yC4TF6c\"\n",
    "\n",
    "payload=json.dumps({\n",
    "    \"jsonrpc\":\"2.0\",\n",
    "    \"id\":1,\n",
    "    \"method\":\"getProgramAccounts\",\n",
    "    \"params\":[\n",
    "        METADATA_PROGRAM_ID,\n",
    "        {\n",
    "            \"encoding\":\"jsonParsed\",\n",
    "            \"filters\":[\n",
    "                {\n",
    "                    \"memcmp\": {\n",
    "                        \"offset\":\n",
    "                            1 + # key\n",
    "                            32 + # update auth\n",
    "                            32 + # mint\n",
    "                            4 + # name string length\n",
    "                            MAX_NAME_LENGTH + # name\n",
    "                            4 + # uri string length\n",
    "                            MAX_URI_LENGTH + # uri\n",
    "                            4 + # symbol string length\n",
    "                            MAX_SYMBOL_LENGTH + # symbol\n",
    "                            2 + # seller fee basis points\n",
    "                            1 + # whether or not there is a creators vec\n",
    "                            4 + # creators vec length\n",
    "                            creatorIndex * MAX_CREATOR_LEN,\n",
    "                        \"bytes\": creatorAddress\n",
    "                    },\n",
    "                },\n",
    "            ],            \n",
    "        }\n",
    "    ]\n",
    "})\n",
    "\n",
    "headers={\"content-type\":\"application/json\",\"cache-control\":\"no-cache\"}\n",
    "response=requests.request(\"POST\", SSC_RPC_ENDPOINT,data=payload,headers=headers)\n",
    "data=response.json()[\"result\"]\n",
    "print(\"total records:\",len(data))"
   ]
  },
  {
   "cell_type": "code",
   "execution_count": 73,
   "id": "7f6f8e90",
   "metadata": {},
   "outputs": [
    {
     "data": {
      "text/plain": [
       "[]"
      ]
     },
     "execution_count": 73,
     "metadata": {},
     "output_type": "execute_result"
    }
   ],
   "source": [
    "data"
   ]
  },
  {
   "cell_type": "code",
   "execution_count": 64,
   "id": "459d63c2",
   "metadata": {},
   "outputs": [],
   "source": [
    "# pubkey: update mint authority on solscan (go to any token and check the key)\n",
    "# \n",
    "\n",
    "memcmp_opts = [MemcmpOpts(offset=4, bytes=\"Bhr9iWx7vAZ4JDD5DVSdHxQLqG9RvCLCSXvu6yC4TF6c\")]\n",
    "data = await sol_client.get_program_accounts(pubkey=\"Bhr9iWx7vAZ4JDD5DVSdHxQLqG9RvCLCSXvu6yC4TF6c\",\n",
    "                               encoding=\"jsonParsed\",\n",
    "                               memcmp_opts=memcmp_opts)"
   ]
  },
  {
   "cell_type": "code",
   "execution_count": 67,
   "id": "b7973bf0",
   "metadata": {},
   "outputs": [],
   "source": [
    "from solana.rpc.types import TokenAccountOpts"
   ]
  },
  {
   "cell_type": "code",
   "execution_count": 68,
   "id": "fc74f244",
   "metadata": {},
   "outputs": [
    {
     "ename": "AttributeError",
     "evalue": "'list' object has no attribute 'mint'",
     "output_type": "error",
     "traceback": [
      "\u001b[0;31m---------------------------------------------------------------------------\u001b[0m",
      "\u001b[0;31mAttributeError\u001b[0m                            Traceback (most recent call last)",
      "\u001b[0;32m/var/folders/d2/jw74dsb57mzbyspd_lk14njc0000gn/T/ipykernel_66345/4172630266.py\u001b[0m in \u001b[0;36m<module>\u001b[0;34m\u001b[0m\n\u001b[0;32m----> 1\u001b[0;31m \u001b[0;32mawait\u001b[0m \u001b[0msol_client\u001b[0m\u001b[0;34m.\u001b[0m\u001b[0mget_token_accounts_by_owner\u001b[0m\u001b[0;34m(\u001b[0m\u001b[0;34m\"Bhr9iWx7vAZ4JDD5DVSdHxQLqG9RvCLCSXvu6yC4TF6c\"\u001b[0m\u001b[0;34m,\u001b[0m \u001b[0mopts\u001b[0m\u001b[0;34m=\u001b[0m\u001b[0;34m[\u001b[0m\u001b[0mTokenAccountOpts\u001b[0m\u001b[0;34m(\u001b[0m\u001b[0;34m\"metaqbxxUerdq28cj1RbAWkYQm3ybzjb6a8bt518x1s\"\u001b[0m\u001b[0;34m)\u001b[0m\u001b[0;34m]\u001b[0m\u001b[0;34m)\u001b[0m\u001b[0;34m\u001b[0m\u001b[0;34m\u001b[0m\u001b[0m\n\u001b[0m",
      "\u001b[0;32m~/personal-projects/ssc-exploration/.venv/lib/python3.9/site-packages/solana/rpc/async_api.py\u001b[0m in \u001b[0;36mget_token_accounts_by_owner\u001b[0;34m(self, owner, opts, commitment)\u001b[0m\n\u001b[1;32m    976\u001b[0m         \"\"\"\n\u001b[1;32m    977\u001b[0m         \u001b[0margs\u001b[0m \u001b[0;34m=\u001b[0m \u001b[0mself\u001b[0m\u001b[0;34m.\u001b[0m\u001b[0m_get_token_accounts_by_owner_args\u001b[0m\u001b[0;34m(\u001b[0m\u001b[0mowner\u001b[0m\u001b[0;34m,\u001b[0m \u001b[0mopts\u001b[0m\u001b[0;34m,\u001b[0m \u001b[0mcommitment\u001b[0m\u001b[0;34m)\u001b[0m\u001b[0;34m\u001b[0m\u001b[0;34m\u001b[0m\u001b[0m\n\u001b[0;32m--> 978\u001b[0;31m         \u001b[0;32mreturn\u001b[0m \u001b[0;32mawait\u001b[0m \u001b[0mself\u001b[0m\u001b[0;34m.\u001b[0m\u001b[0m__get_token_accounts\u001b[0m\u001b[0;34m(\u001b[0m\u001b[0;34m*\u001b[0m\u001b[0margs\u001b[0m\u001b[0;34m)\u001b[0m\u001b[0;34m\u001b[0m\u001b[0;34m\u001b[0m\u001b[0m\n\u001b[0m\u001b[1;32m    979\u001b[0m \u001b[0;34m\u001b[0m\u001b[0m\n\u001b[1;32m    980\u001b[0m     async def __get_token_accounts(\n",
      "\u001b[0;32m~/personal-projects/ssc-exploration/.venv/lib/python3.9/site-packages/solana/rpc/async_api.py\u001b[0m in \u001b[0;36m__get_token_accounts\u001b[0;34m(self, method, pubkey, opts, commitment)\u001b[0m\n\u001b[1;32m    985\u001b[0m         \u001b[0mcommitment\u001b[0m\u001b[0;34m:\u001b[0m \u001b[0mCommitment\u001b[0m\u001b[0;34m,\u001b[0m\u001b[0;34m\u001b[0m\u001b[0;34m\u001b[0m\u001b[0m\n\u001b[1;32m    986\u001b[0m     ) -> types.RPCResponse:\n\u001b[0;32m--> 987\u001b[0;31m         \u001b[0margs\u001b[0m \u001b[0;34m=\u001b[0m \u001b[0mself\u001b[0m\u001b[0;34m.\u001b[0m\u001b[0m_get_token_accounts_args\u001b[0m\u001b[0;34m(\u001b[0m\u001b[0mmethod\u001b[0m\u001b[0;34m,\u001b[0m \u001b[0mpubkey\u001b[0m\u001b[0;34m,\u001b[0m \u001b[0mopts\u001b[0m\u001b[0;34m,\u001b[0m \u001b[0mcommitment\u001b[0m\u001b[0;34m)\u001b[0m\u001b[0;34m\u001b[0m\u001b[0;34m\u001b[0m\u001b[0m\n\u001b[0m\u001b[1;32m    988\u001b[0m         \u001b[0;32mreturn\u001b[0m \u001b[0;32mawait\u001b[0m \u001b[0mself\u001b[0m\u001b[0;34m.\u001b[0m\u001b[0m_provider\u001b[0m\u001b[0;34m.\u001b[0m\u001b[0mmake_request\u001b[0m\u001b[0;34m(\u001b[0m\u001b[0;34m*\u001b[0m\u001b[0margs\u001b[0m\u001b[0;34m)\u001b[0m\u001b[0;34m\u001b[0m\u001b[0;34m\u001b[0m\u001b[0m\n\u001b[1;32m    989\u001b[0m \u001b[0;34m\u001b[0m\u001b[0m\n",
      "\u001b[0;32m~/personal-projects/ssc-exploration/.venv/lib/python3.9/site-packages/solana/rpc/core.py\u001b[0m in \u001b[0;36m_get_token_accounts_args\u001b[0;34m(self, method, pubkey, opts, commitment)\u001b[0m\n\u001b[1;32m    289\u001b[0m         \u001b[0mcommitment\u001b[0m\u001b[0;34m:\u001b[0m \u001b[0mCommitment\u001b[0m\u001b[0;34m,\u001b[0m\u001b[0;34m\u001b[0m\u001b[0;34m\u001b[0m\u001b[0m\n\u001b[1;32m    290\u001b[0m     ) -> Tuple[types.RPCMethod, str, Dict[str, str], Dict[str, Any]]:\n\u001b[0;32m--> 291\u001b[0;31m         \u001b[0;32mif\u001b[0m \u001b[0;32mnot\u001b[0m \u001b[0mopts\u001b[0m\u001b[0;34m.\u001b[0m\u001b[0mmint\u001b[0m \u001b[0;32mand\u001b[0m \u001b[0;32mnot\u001b[0m \u001b[0mopts\u001b[0m\u001b[0;34m.\u001b[0m\u001b[0mprogram_id\u001b[0m\u001b[0;34m:\u001b[0m\u001b[0;34m\u001b[0m\u001b[0;34m\u001b[0m\u001b[0m\n\u001b[0m\u001b[1;32m    292\u001b[0m             \u001b[0;32mraise\u001b[0m \u001b[0mValueError\u001b[0m\u001b[0;34m(\u001b[0m\u001b[0;34m\"Please provide one of mint or program_id\"\u001b[0m\u001b[0;34m)\u001b[0m\u001b[0;34m\u001b[0m\u001b[0;34m\u001b[0m\u001b[0m\n\u001b[1;32m    293\u001b[0m \u001b[0;34m\u001b[0m\u001b[0m\n",
      "\u001b[0;31mAttributeError\u001b[0m: 'list' object has no attribute 'mint'"
     ]
    }
   ],
   "source": [
    "await sol_client.get_token_accounts_by_owner(\"Bhr9iWx7vAZ4JDD5DVSdHxQLqG9RvCLCSXvu6yC4TF6c\", opts=[TokenAccountOpts(mintprogram_id=\"metaqbxxUerdq28cj1RbAWkYQm3ybzjb6a8bt518x1s\")])"
   ]
  },
  {
   "cell_type": "code",
   "execution_count": 65,
   "id": "91c05c78",
   "metadata": {},
   "outputs": [
    {
     "data": {
      "text/plain": [
       "{'jsonrpc': '2.0', 'result': [], 'id': 5}"
      ]
     },
     "execution_count": 65,
     "metadata": {},
     "output_type": "execute_result"
    }
   ],
   "source": [
    "data"
   ]
  },
  {
   "cell_type": "code",
   "execution_count": null,
   "id": "422b5db5",
   "metadata": {},
   "outputs": [],
   "source": []
  }
 ],
 "metadata": {
  "kernelspec": {
   "display_name": "Python 3 (ipykernel)",
   "language": "python",
   "name": "python3"
  },
  "language_info": {
   "codemirror_mode": {
    "name": "ipython",
    "version": 3
   },
   "file_extension": ".py",
   "mimetype": "text/x-python",
   "name": "python",
   "nbconvert_exporter": "python",
   "pygments_lexer": "ipython3",
   "version": "3.9.6"
  }
 },
 "nbformat": 4,
 "nbformat_minor": 5
}
