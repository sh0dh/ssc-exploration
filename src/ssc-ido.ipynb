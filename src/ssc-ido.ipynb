{
 "cells": [
  {
   "cell_type": "code",
   "execution_count": 249,
   "id": "f5d6f3e7",
   "metadata": {},
   "outputs": [],
   "source": [
    "import json\n",
    "import pandas as pd\n",
    "from time import sleep\n",
    "import asyncio\n",
    "from solana.rpc.async_api import AsyncClient\n",
    "from datetime import datetime\n",
    "from itertools import chain\n",
    "from pydantic import BaseModel, Json\n",
    "import requests\n",
    "from typing import Any, Optional\n",
    "import re"
   ]
  },
  {
   "cell_type": "code",
   "execution_count": 81,
   "id": "0c141cc6",
   "metadata": {},
   "outputs": [],
   "source": [
    "from dotenv import load_dotenv"
   ]
  },
  {
   "cell_type": "code",
   "execution_count": 82,
   "id": "bac9727d",
   "metadata": {},
   "outputs": [
    {
     "data": {
      "text/plain": [
       "True"
      ]
     },
     "execution_count": 82,
     "metadata": {},
     "output_type": "execute_result"
    }
   ],
   "source": [
    "load_dotenv(\"../.env\")"
   ]
  },
  {
   "cell_type": "code",
   "execution_count": 83,
   "id": "b30f66b7",
   "metadata": {},
   "outputs": [],
   "source": [
    "import os"
   ]
  },
  {
   "cell_type": "code",
   "execution_count": 85,
   "id": "10ab37bb",
   "metadata": {},
   "outputs": [],
   "source": [
    "SSC_RPC_ENDPOINT = os.getenv(\"SSC_RPC_ENDPOINT\")"
   ]
  },
  {
   "cell_type": "code",
   "execution_count": 86,
   "id": "d3eee534",
   "metadata": {},
   "outputs": [],
   "source": [
    "IDO_TOKEN_ACCOUNT = os.getenv(\"IDO_TOKEN_ACCOUNT\")"
   ]
  },
  {
   "cell_type": "code",
   "execution_count": 87,
   "id": "a7da9d14",
   "metadata": {},
   "outputs": [],
   "source": [
    "USDC_TOKEN_ACCOUNT = os.getenv(\"USDC_TOKEN_ACCOUNT\")"
   ]
  },
  {
   "cell_type": "code",
   "execution_count": 88,
   "id": "365296c0",
   "metadata": {},
   "outputs": [],
   "source": [
    "sol_client = AsyncClient(SSC_RPC_ENDPOINT)\n",
    "ssc_account_data = await sol_client.get_account_info(IDO_TOKEN_ACCOUNT)"
   ]
  },
  {
   "cell_type": "markdown",
   "id": "de9d4fd0",
   "metadata": {},
   "source": [
    "### Checking txn level data"
   ]
  },
  {
   "cell_type": "code",
   "execution_count": 9,
   "id": "4a8a9589",
   "metadata": {},
   "outputs": [],
   "source": [
    "ssc_signatures = await sol_client.get_confirmed_signature_for_address2(IDO_TOKEN_ACCOUNT, limit=500)"
   ]
  },
  {
   "cell_type": "code",
   "execution_count": 11,
   "id": "d0116682",
   "metadata": {},
   "outputs": [
    {
     "data": {
      "text/plain": [
       "500"
      ]
     },
     "execution_count": 11,
     "metadata": {},
     "output_type": "execute_result"
    }
   ],
   "source": [
    "len(ssc_signatures[\"result\"])"
   ]
  },
  {
   "cell_type": "code",
   "execution_count": 21,
   "id": "296f6a63",
   "metadata": {},
   "outputs": [
    {
     "data": {
      "text/plain": [
       "'22TPnGPmsnxY6ePKMykkVA7XHBD5MBgejrQmYhYxpbCrFPokGeRgXQDtNXcgWxxEjw3hKuH59bfqYtS8LCnk8KwR'"
      ]
     },
     "execution_count": 21,
     "metadata": {},
     "output_type": "execute_result"
    }
   ],
   "source": [
    "ssc_signatures[\"result\"][0][\"signature\"]"
   ]
  },
  {
   "cell_type": "code",
   "execution_count": 20,
   "id": "ca0a562d",
   "metadata": {},
   "outputs": [
    {
     "data": {
      "text/plain": [
       "'5T6rtBvsNDepV4UQEmXuLz1jo5B8pJsBEh1B49Y5zTtyTcYB58ALZQ2Zv5vpN42VnLHGMqRfojQmPjDTuYbbDTFo'"
      ]
     },
     "execution_count": 20,
     "metadata": {},
     "output_type": "execute_result"
    }
   ],
   "source": [
    "ssc_signatures[\"result\"][1][\"signature\"]"
   ]
  },
  {
   "cell_type": "code",
   "execution_count": 18,
   "id": "3a220cde",
   "metadata": {},
   "outputs": [],
   "source": [
    "sample_txn = await sol_client.get_transaction(ssc_signatures[\"result\"][1][\"signature\"])"
   ]
  },
  {
   "cell_type": "code",
   "execution_count": 25,
   "id": "195f3e63",
   "metadata": {},
   "outputs": [
    {
     "data": {
      "text/plain": [
       "{'Err': {'InstructionError': [0, {'Custom': 303}]}}"
      ]
     },
     "execution_count": 25,
     "metadata": {},
     "output_type": "execute_result"
    }
   ],
   "source": [
    "sample_txn[\"result\"][\"meta\"][\"status\"]"
   ]
  },
  {
   "cell_type": "code",
   "execution_count": 154,
   "id": "9a8938b5",
   "metadata": {},
   "outputs": [],
   "source": [
    "sample_txn_success = await sol_client.get_confirmed_transaction(\"66v4eUZApDGqwsyY2yP8oNAhdTv4us6dPteportBZMUCyZi9vUx51e8tPLKG6VBoqK3JZNwSr2BpnWCUtigkBWxb\")"
   ]
  },
  {
   "cell_type": "code",
   "execution_count": 155,
   "id": "508714da",
   "metadata": {},
   "outputs": [
    {
     "data": {
      "text/plain": [
       "{'Err': {'InstructionError': [1, {'Custom': 303}]}}"
      ]
     },
     "execution_count": 155,
     "metadata": {},
     "output_type": "execute_result"
    }
   ],
   "source": [
    "sample_txn_success[\"result\"][\"meta\"][\"status\"]"
   ]
  },
  {
   "cell_type": "code",
   "execution_count": 156,
   "id": "620356df",
   "metadata": {},
   "outputs": [],
   "source": [
    "meta_success = sample_txn_success[\"result\"][\"meta\"]"
   ]
  },
  {
   "cell_type": "code",
   "execution_count": 157,
   "id": "22cc0e62",
   "metadata": {},
   "outputs": [
    {
     "data": {
      "text/plain": [
       "1641304801"
      ]
     },
     "execution_count": 157,
     "metadata": {},
     "output_type": "execute_result"
    }
   ],
   "source": [
    "sample_txn_success[\"result\"][\"blockTime\"]"
   ]
  },
  {
   "cell_type": "code",
   "execution_count": 158,
   "id": "a639c1d9",
   "metadata": {},
   "outputs": [
    {
     "data": {
      "text/plain": [
       "{'jsonrpc': '2.0', 'result': 1641304801, 'id': 10}"
      ]
     },
     "execution_count": 158,
     "metadata": {},
     "output_type": "execute_result"
    }
   ],
   "source": [
    "await sol_client.get_block_time(sample_txn_success[\"result\"][\"slot\"])"
   ]
  },
  {
   "cell_type": "code",
   "execution_count": 159,
   "id": "0053b67b",
   "metadata": {},
   "outputs": [
    {
     "data": {
      "text/plain": [
       "datetime.datetime(2022, 1, 4, 19, 29, 59)"
      ]
     },
     "execution_count": 159,
     "metadata": {},
     "output_type": "execute_result"
    }
   ],
   "source": [
    "datetime.fromtimestamp(1641304799)"
   ]
  },
  {
   "cell_type": "code",
   "execution_count": 160,
   "id": "da6af024",
   "metadata": {},
   "outputs": [
    {
     "data": {
      "text/plain": [
       "[{'accountIndex': 3,\n",
       "  'mint': 'EPjFWdd5AufqSSqeM2qN1xzybapC8G4wEGGkZwyTDt1v',\n",
       "  'owner': '7qSqQG1P7rG6QdcSv88EG1A5kbb7eFgn97jvtaurhEv3',\n",
       "  'uiTokenAmount': {'amount': '52029280586420',\n",
       "   'decimals': 6,\n",
       "   'uiAmount': 52029280.58642,\n",
       "   'uiAmountString': '52029280.58642'}},\n",
       " {'accountIndex': 4,\n",
       "  'mint': 'EPjFWdd5AufqSSqeM2qN1xzybapC8G4wEGGkZwyTDt1v',\n",
       "  'owner': '4Tu3a9Vfv3y4qDSGxS58yrmtSJj8kv3fg1y9AcB9SGSY',\n",
       "  'uiTokenAmount': {'amount': '10002753156',\n",
       "   'decimals': 6,\n",
       "   'uiAmount': 10002.753156,\n",
       "   'uiAmountString': '10002.753156'}}]"
      ]
     },
     "execution_count": 160,
     "metadata": {},
     "output_type": "execute_result"
    }
   ],
   "source": [
    "meta_success[\"postTokenBalances\"]"
   ]
  },
  {
   "cell_type": "code",
   "execution_count": 161,
   "id": "789c7394",
   "metadata": {},
   "outputs": [
    {
     "data": {
      "text/plain": [
       "[{'accountIndex': 3,\n",
       "  'mint': 'EPjFWdd5AufqSSqeM2qN1xzybapC8G4wEGGkZwyTDt1v',\n",
       "  'owner': '7qSqQG1P7rG6QdcSv88EG1A5kbb7eFgn97jvtaurhEv3',\n",
       "  'uiTokenAmount': {'amount': '52029280586420',\n",
       "   'decimals': 6,\n",
       "   'uiAmount': 52029280.58642,\n",
       "   'uiAmountString': '52029280.58642'}},\n",
       " {'accountIndex': 4,\n",
       "  'mint': 'EPjFWdd5AufqSSqeM2qN1xzybapC8G4wEGGkZwyTDt1v',\n",
       "  'owner': '4Tu3a9Vfv3y4qDSGxS58yrmtSJj8kv3fg1y9AcB9SGSY',\n",
       "  'uiTokenAmount': {'amount': '10002753156',\n",
       "   'decimals': 6,\n",
       "   'uiAmount': 10002.753156,\n",
       "   'uiAmountString': '10002.753156'}}]"
      ]
     },
     "execution_count": 161,
     "metadata": {},
     "output_type": "execute_result"
    }
   ],
   "source": [
    "meta_success[\"preTokenBalances\"]"
   ]
  },
  {
   "cell_type": "code",
   "execution_count": 162,
   "id": "60f1e6d2",
   "metadata": {},
   "outputs": [],
   "source": [
    "txn_post_bal = [bal[\"uiTokenAmount\"][\"uiAmount\"] for bal in meta_success[\"postTokenBalances\"] if bal[\"mint\"] == USDC_TOKEN_ACCOUNT]"
   ]
  },
  {
   "cell_type": "code",
   "execution_count": 163,
   "id": "d940238c",
   "metadata": {},
   "outputs": [],
   "source": [
    "txn_pre_bal = [bal[\"uiTokenAmount\"][\"uiAmount\"] for bal in meta_success[\"preTokenBalances\"] if bal[\"mint\"] == USDC_TOKEN_ACCOUNT]"
   ]
  },
  {
   "cell_type": "code",
   "execution_count": 164,
   "id": "dd082bf0",
   "metadata": {},
   "outputs": [
    {
     "data": {
      "text/plain": [
       "[52029280.58642, 10002.753156]"
      ]
     },
     "execution_count": 164,
     "metadata": {},
     "output_type": "execute_result"
    }
   ],
   "source": [
    "txn_post_bal"
   ]
  },
  {
   "cell_type": "code",
   "execution_count": 165,
   "id": "6d6d1813",
   "metadata": {},
   "outputs": [
    {
     "data": {
      "text/plain": [
       "[52029280.58642, 10002.753156]"
      ]
     },
     "execution_count": 165,
     "metadata": {},
     "output_type": "execute_result"
    }
   ],
   "source": [
    "txn_pre_bal"
   ]
  },
  {
   "cell_type": "code",
   "execution_count": 166,
   "id": "9053d5c2",
   "metadata": {},
   "outputs": [
    {
     "data": {
      "text/plain": [
       "['7qSqQG1P7rG6QdcSv88EG1A5kbb7eFgn97jvtaurhEv3',\n",
       " '4Tu3a9Vfv3y4qDSGxS58yrmtSJj8kv3fg1y9AcB9SGSY']"
      ]
     },
     "execution_count": 166,
     "metadata": {},
     "output_type": "execute_result"
    }
   ],
   "source": [
    "[bal[\"owner\"] for bal in meta_success[\"postTokenBalances\"] if bal[\"mint\"] == USDC_TOKEN_ACCOUNT]"
   ]
  },
  {
   "cell_type": "code",
   "execution_count": 167,
   "id": "0d9f148b",
   "metadata": {},
   "outputs": [
    {
     "data": {
      "text/plain": [
       "['7qSqQG1P7rG6QdcSv88EG1A5kbb7eFgn97jvtaurhEv3',\n",
       " '4Tu3a9Vfv3y4qDSGxS58yrmtSJj8kv3fg1y9AcB9SGSY']"
      ]
     },
     "execution_count": 167,
     "metadata": {},
     "output_type": "execute_result"
    }
   ],
   "source": [
    "[bal[\"owner\"] for bal in meta_success[\"preTokenBalances\"] if bal[\"mint\"] == USDC_TOKEN_ACCOUNT]"
   ]
  },
  {
   "cell_type": "code",
   "execution_count": 138,
   "id": "cf38639c",
   "metadata": {},
   "outputs": [
    {
     "data": {
      "text/plain": [
       "[-20.0, 20.0]"
      ]
     },
     "execution_count": 138,
     "metadata": {},
     "output_type": "execute_result"
    }
   ],
   "source": [
    "[float(0 if pre is None else pre) - float(0 if post is None else post) for pre, post in list(zip(txn_pre_bal, txn_post_bal))]"
   ]
  },
  {
   "cell_type": "markdown",
   "id": "cbe230ac",
   "metadata": {},
   "source": [
    "### Code to fetch all the txns"
   ]
  },
  {
   "cell_type": "code",
   "execution_count": 223,
   "id": "e87e672c",
   "metadata": {},
   "outputs": [],
   "source": [
    "def fetch_time_diff(ts_start: datetime, ts_end: datetime, time_format: str = \"seconds\"):\n",
    "    return round((ts_end - ts_start).total_seconds(), 2)"
   ]
  },
  {
   "cell_type": "code",
   "execution_count": 224,
   "id": "b6046fd6",
   "metadata": {},
   "outputs": [],
   "source": [
    "async def fetch_ido_signatures(token_account: str, batch_count: int, cursor_signature: str=None):\n",
    "    async with AsyncClient(SSC_RPC_ENDPOINT) as sol_client:\n",
    "        ssc_signatures = await sol_client.get_confirmed_signature_for_address2(\n",
    "            token_account, \n",
    "            limit=batch_count, \n",
    "            before=cursor_signature)\n",
    "    return ssc_signatures[\"result\"]"
   ]
  },
  {
   "cell_type": "code",
   "execution_count": 225,
   "id": "3a7c4ac2",
   "metadata": {},
   "outputs": [],
   "source": [
    "async def fetch_all_ido_signature_details(batch_count: int):\n",
    "    ts_start = datetime.now()\n",
    "    cursor_signature = None\n",
    "    full_txn_list = []\n",
    "    while True:\n",
    "        txn_list = await fetch_all_ido_txns(\n",
    "            token_account=IDO_TOKEN_ACCOUNT, \n",
    "            batch_count=batch_count, \n",
    "            cursor_signature=cursor_signature\n",
    "        )\n",
    "        if len(txn_list) == 0:\n",
    "            print(\"No txns found...\")\n",
    "            ts_end = datetime.now()\n",
    "            break\n",
    "        cursor_signature = txn_list[-1][\"signature\"]\n",
    "        print(f\"Last txn: {cursor_signature} | Len: {len(txn_list)}\")\n",
    "        full_txn_list.append(txn_list)\n",
    "    ts_end = datetime.now()\n",
    "    final_txn_list = list(chain.from_iterable(full_txn_list))\n",
    "    print(f\"{len(final_txn_list)} signatures have been fetched in {fetch_time_diff(ts_start=ts_start, ts_end=ts_end)} secs\")\n",
    "    return final_txn_list"
   ]
  },
  {
   "cell_type": "code",
   "execution_count": 79,
   "id": "353661d1",
   "metadata": {},
   "outputs": [
    {
     "name": "stdout",
     "output_type": "stream",
     "text": [
      "Last txn: 4KW69AL8rbZ7LmDdZxNuddnEknBAP7RR7waBUKLkmmS8E2j2psXBP4SsM2x7ZyCzp8Ad3p29iMxq3mqdNXtRbNwe | Len: 500\n",
      "Last txn: 5tRAGxiwFhFema8ZQFhEQpdZAVgWmqGGn131gSQNRBoz2WmgpYZhPW1E5qL9dQhFhWzBxFegw2FyW4q4w8taCZmi | Len: 500\n",
      "Last txn: 55AsotAPbuMvG667qvtHHMGCspi9Wi2MxgWP51JXg5BtxeVsE9fLMAhs5rYo5sBAWKYTcLnkUVkZS49ee52AKgJx | Len: 500\n",
      "Last txn: 3VLLqDcwcXeeCkfk5NYfyCzEJrRukP9RApoBFqK9MkciueLJTgSPYNiuW1x3G3sLs6eFokGjwHdKbHRCcfMG4Kon | Len: 500\n",
      "Last txn: 4Y9F88HYLRvjFsj44oJb7372jyXVpuLUZRciZcYRx2WQqrFXKpomm9Z29Ezqn7DSkQweLhx9Esy1gk78woYw5m5K | Len: 500\n",
      "Last txn: 3hu8pRAF2QB9RUFkP2UNtAJccXF2XqUUmYmu6LyEkwEav3zhamUFA4tWdacd21QAFWrFMt8YFEHHsFnudoDGGz4C | Len: 500\n",
      "Last txn: 56fYZWoD8zgVHdL7cpBC4Fx3ShG45jjFJpY8gMgSf168dec13AQcVeg5QAwxdgjWjqABai3DXYMXzrUtNoJ1Wg2h | Len: 500\n",
      "Last txn: 5tD2CjUbRC1nUUegc22Sz3jkm8qUsTKHR818cZpKqqEznoayfVQLzUsTtisPg6TtedhmaJbFWnbcqQ5DDTgXter1 | Len: 500\n",
      "Last txn: 2h1Stri876PFmfd89TK7U4AEwJzofjGLdzEmKydezQgzhGNyo2hQsc7V4iweu13hYpi4PXvtVtL4hM4vtbz6nd12 | Len: 500\n",
      "Last txn: 31xMAgniMB53jWGSMmRNqNBw7joL9KoXNxZZ32nWcUVizDYa24eWtpKvU9qGBxGVWSRHE7CKv9sybgRNLioXzeGn | Len: 500\n",
      "Last txn: 5mo5aV8JgvNpVcpDJXobJe61fr4YGJmd1ZuM4f6qPyPEkk6k5GLn823Dnm8y6sbNE2bgXJ7KQkA1SaEwDRnWmjZE | Len: 500\n",
      "Last txn: 3cLdSnaD4YSzy1CqcbZTJcHpTUq3UmguU6HUHDZBrG2gDFPv7447oUyjb5dkFqecYGYAWDrhxg5ur8nYuwB3mCSL | Len: 500\n",
      "Last txn: 37nZMv3dQpaiXmRXbiG8nz5Jc7j1FnMYEYZ4Lpzsrb9C48ZLAWVvLQHiHF4QNJucJWgXfo51aLZF3ouayzTrudQD | Len: 500\n",
      "Last txn: 5bz7BT9HHM99T4K1mXwUsp4Ey43EFQxvQ6XGNdDYDRDtWYuK74RJL9Tbn35JE3abthwkN7rNHuJAAgAnTYnDAqw7 | Len: 500\n",
      "Last txn: 57mZmZHbkinDEmZYntZXTpZAp9gLrrEbqooistfMgRPJ81xrYJ25HTkgaTHGgmUNQbuBMVnYHcaYocDqBrrn3kED | Len: 500\n",
      "Last txn: 5VfW9ZibYb2NQG9WZFnfLjgGxVP12DQNbAjZAGKjp5TNtmV7f7LhbexGWfDqn4VT55YjGNCEDANUy8YCSzJ1dU27 | Len: 500\n",
      "Last txn: 2ayMurG3v9gg4uab6QZ7VYTS5K6zdrH9hntbL3xpEHByRBfFWd1zdXTZTFYcnMJHMFCCZH4khSBPyDjdJ6YLyQHX | Len: 500\n",
      "Last txn: 3f9daebFLf8sKf1cQ3a54bT9ihv44mbbJzrehsKXJPxGKjPaMpuJpBavo9mdfxFbCRGsYZSJ3p6RqSPeUq2U8N1t | Len: 500\n",
      "Last txn: 5cVUzmja36iFxpQWLYSoicZfEbwoZwKx9ch3KYUkNaL6dtom9KmkD7qooqgVnj9HTGoEgzHAfwDcujfccueYjefP | Len: 500\n",
      "Last txn: 2u1c6jkyiXjLkscjbfEB2sj5Yr6hF9xHHgU7FuAm93cJ2su4FiKUeb4eq2Y9s8exDYS2bqf3pFWN4R25VEuSQeJP | Len: 500\n",
      "Last txn: az2NiJu6rC69DUnW4zFfChia4hTd1vsNCwSEHSnkUshkk1T82aF8ZAWupvY7S5DujLqs5PiC51mo5BuHZVFb73F | Len: 500\n",
      "Last txn: 5vCm25WhgWuqxB4g4hajCpcMzjC8Q9NT5d9YpeZRSq83RSuFfuSzus4SnPvhJB8ybRifRkjWQWPLmq5NDMTc8b8h | Len: 500\n",
      "Last txn: 3awVKumzoe6omNhBdtqg6CMF6jUTVnMk1KW9dew5DpK66tvCDeDMbYyLH1CcPWY6dZQiKXTM1yqfc5LTogYCgsvS | Len: 500\n",
      "Last txn: 47BHjCmeZjEPWRi3juLg5ZPHaYCPY9J5u866njYiXViuGtvkqFuKfN7KWMEXgfmi4oqSUyCXb8ZXiutSonQGKWVx | Len: 500\n",
      "Last txn: 5qQWFs8NsHDdgCnxntL1bZPXpwePYKmkd4xfP7p6Q22kGfRb7QAWSzoridxc5LUvBe9fizHqzteAv7WmhjV1ZEn4 | Len: 500\n",
      "Last txn: 5nm6mSfMydQidrg3znRSUj8hY98FUQSgAEiZbbZjdLmutLaKCjERTJtVmdg3d7DZkpsQfA55XeYA1Nk33rRzKNoA | Len: 500\n",
      "Last txn: 3Z8stUVe7hAN9kpQQKb3eoWaqX8jpgnerCTQtkW26f246z6zG2BCAd8nUPfveo38YQzctaKjxMm1N4cDoPsSMHry | Len: 500\n",
      "Last txn: hMC1N981EHbAENLeVPYVwtv4RsPVcXr72nuPd3EAkMNCTF3yJ6AHtXkyDuDbnC1R34kJr3XGxWcCPQiPdjMZZ5T | Len: 500\n",
      "Last txn: 3NRPYQtA1FmNHs9wedPV9cVyFicoxgF4VotKjy4gQNQXtsqBRNSt8tyGjRUNTHK2NzEy4nQRRwAjYJzBzYeAZkmM | Len: 500\n",
      "Last txn: 2bAgxv3oJZqiFUddAphE2Y4gU8hZKGWENut92b2UfzJoVUHZeSFwx2XpwAJY1fkEQqxaLkP8tV2HUk3taXtTCUzT | Len: 500\n",
      "Last txn: q9FGoAw51g8KBTUJkvUQR77R6fqFbaACfk9aWvxqNR1VZvu1L3JLTzspRkpPfTGGBKS5Jv9qZNcBmmZTsBUU9QF | Len: 500\n",
      "Last txn: 5Rf7vL1arkvXwB6HRBt6YpJNsyUvUjYGSf5D62qcGzffuLg4mJXFLfN5TNEQAo4ZLQ17sxJQ9re672VAp5Xtvcno | Len: 500\n",
      "Last txn: 2yHL61R7QN6LsJLKbBGL2V1kBTAuuMZREifwmcPXfJdx7bEjfSHUL6v8yvpRBVD9yRenRovU7SVRxuMAZkG1YCiv | Len: 500\n",
      "Last txn: 5LEWZeH2DoUZ9Zh1cbu95UaW3cHSA854MwNrgBs7mGHZA4fgZqefcKifhTkgaodtLJtbtBgsjFoJy5sikeZTJZBy | Len: 500\n",
      "Last txn: 4UbBrvCQRacmGKxhufjnKnTQYF1vJ4Gz1f6teBsSP3W5mVRWtkDYD6MZnYgjr9qMNsgKZev8YKjjd8cc19WNzo1r | Len: 500\n",
      "Last txn: 4Poh12DXxWv84eqt587dwRkySgC9BFvasLW97okpMLFQK7w3XEgkETqxehbQYrZ4ikqJ6hjeUn2gHgHUtfoMEUKW | Len: 500\n",
      "Last txn: 2DcFX6z5YuqwsdRKWFx7jv5JFccB9p574JGjjpi42xYYWADPJRgiQcGPUpRXY9vKGjPwwRtn2JncHzyBmyUpF38b | Len: 500\n",
      "Last txn: 3JaTnTbNZTfmnw9Qca4x29DVf2svagevt1tuK2trhCy3DU9iYoAWm19i3qKA9zheTMMmUpCHHabym6eHmYHA3AEr | Len: 500\n",
      "Last txn: 28V5H4PSGhyWCdpDKw6HYcGtHG9PXfgQaABCQNBBCq1fZ484gSXTXHu15iU96uTK2989Q32WbZZQqtjNmaNy5PLf | Len: 500\n",
      "Last txn: ovkxN1eSYPi7wBKy1un3oaNJEGfJxWmwZrT8rN4YPTDWQ5MGacPans7QiTosLZRW2C6SSbWRAPJyU689FQuKG5U | Len: 222\n",
      "Last txn: 3eFFJeS6payZPr5om6DAKp7jFTu8u8xPXBSbvDCmTfGkve5MFYPr6cFJFKc5VcZDEWxq31e5w5NsBKwTPjkVY6V2 | Len: 2\n",
      "No txns found...\n",
      "19724 signatures have been fetched in 140.26 secs\n"
     ]
    }
   ],
   "source": [
    "results = await fetch_all_ido_signature_details(batch_count=500)"
   ]
  },
  {
   "cell_type": "code",
   "execution_count": 170,
   "id": "84045da5",
   "metadata": {},
   "outputs": [
    {
     "data": {
      "text/plain": [
       "{'blockTime': 1641306521,\n",
       " 'confirmationStatus': 'finalized',\n",
       " 'err': {'InstructionError': [0, {'Custom': 303}]},\n",
       " 'memo': None,\n",
       " 'signature': '22TPnGPmsnxY6ePKMykkVA7XHBD5MBgejrQmYhYxpbCrFPokGeRgXQDtNXcgWxxEjw3hKuH59bfqYtS8LCnk8KwR',\n",
       " 'slot': 114774361}"
      ]
     },
     "execution_count": 170,
     "metadata": {},
     "output_type": "execute_result"
    }
   ],
   "source": [
    "results[0]"
   ]
  },
  {
   "cell_type": "markdown",
   "id": "6d4f10d6",
   "metadata": {},
   "source": [
    "### Code to parse all the txns"
   ]
  },
  {
   "cell_type": "code",
   "execution_count": 89,
   "id": "feca029c",
   "metadata": {},
   "outputs": [],
   "source": [
    "def sanitize_balances(balance: Any):\n",
    "    return float(0 if balance is None else balance)"
   ]
  },
  {
   "cell_type": "code",
   "execution_count": 254,
   "id": "e0ec9b1c",
   "metadata": {},
   "outputs": [],
   "source": [
    "def extract_usdc_deposited(pre_balances: list, post_balances: list):\n",
    "    if len(pre_balances) == 1 or len(post_balances) == 1:\n",
    "        return 0\n",
    "    txn_post_bal = [bal[\"uiTokenAmount\"][\"uiAmount\"] \\\n",
    "                    for bal in post_balances if bal[\"mint\"] == USDC_TOKEN_ACCOUNT]\n",
    "    txn_pre_bal = [bal[\"uiTokenAmount\"][\"uiAmount\"] \\\n",
    "                   for bal in pre_balances if bal[\"mint\"] == USDC_TOKEN_ACCOUNT]\n",
    "    usdc_deposited = [sanitize_balances(balance=pre) - sanitize_balances(balance=post) \\\n",
    "     for pre, post in list(zip(txn_pre_bal, txn_post_bal))][1]\n",
    "    return usdc_deposited"
   ]
  },
  {
   "cell_type": "code",
   "execution_count": 250,
   "id": "d4d7cde4",
   "metadata": {},
   "outputs": [],
   "source": [
    "class IdoTxn(BaseModel):\n",
    "    usdc_amount: float = 0\n",
    "    sol_amount: float = 0\n",
    "    shdw_tokens: float\n",
    "    depositor: Optional[str]\n",
    "    time_deposited: datetime\n",
    "    txn_status: str"
   ]
  },
  {
   "cell_type": "code",
   "execution_count": 175,
   "id": "45c6fb71",
   "metadata": {},
   "outputs": [],
   "source": [
    "def calculate_sol_amount(usdc_amount: float):\n",
    "    return usdc_amount"
   ]
  },
  {
   "cell_type": "code",
   "execution_count": 202,
   "id": "7ec0a8c8",
   "metadata": {},
   "outputs": [],
   "source": [
    "status_mapper = {\n",
    "    \"Ok\": \"success\",\n",
    "    \"Err\": \"failure\"\n",
    "}"
   ]
  },
  {
   "cell_type": "code",
   "execution_count": 203,
   "id": "eacb6033",
   "metadata": {},
   "outputs": [],
   "source": [
    "# Based on total deposits (52,029,280.58) / 30 Million SHDW tokens\n",
    "FINAL_SHDW_PRICE = 1.734309352666667"
   ]
  },
  {
   "cell_type": "code",
   "execution_count": 252,
   "id": "2397eb4f",
   "metadata": {},
   "outputs": [],
   "source": [
    "async def fetch_txn_details(txn: str):\n",
    "    async with AsyncClient(SSC_RPC_ENDPOINT) as sol_client:\n",
    "        txn_details = await sol_client.get_transaction(txn)\n",
    "    usdc_deposited = extract_usdc_deposited(\n",
    "        pre_balances=txn_details[\"result\"][\"meta\"][\"preTokenBalances\"],\n",
    "        post_balances=txn_details[\"result\"][\"meta\"][\"postTokenBalances\"]\n",
    "    )\n",
    "    time_deposited = datetime.fromtimestamp(txn_details[\"result\"][\"blockTime\"])\n",
    "    txn_status = status_mapper[list(txn_details[\"result\"][\"meta\"][\"status\"].keys())[0]]\n",
    "    sol_amount = calculate_sol_amount(usdc_amount=usdc_deposited)\n",
    "    shdw_tokens = usdc_deposited / final_shdw_price\n",
    "    depositor = \"\"\n",
    "    if usdc_deposited != 0:\n",
    "        depositor = [bal[\"owner\"] for bal in txn_details[\"result\"][\"meta\"][\"preTokenBalances\"] \\\n",
    "                 if bal[\"mint\"] == USDC_TOKEN_ACCOUNT][1]\n",
    "    ido_txn = IdoTxn(\n",
    "        usdc_amount=usdc_deposited,\n",
    "        sol_amount=sol_amount,\n",
    "        shdw_tokens=shdw_tokens,\n",
    "        depositor=depositor,\n",
    "        time_deposited=time_deposited,\n",
    "        txn_status=txn_status\n",
    "    )\n",
    "    return ido_txn.dict()"
   ]
  },
  {
   "cell_type": "code",
   "execution_count": 255,
   "id": "5d4addd4",
   "metadata": {
    "scrolled": true
   },
   "outputs": [
    {
     "name": "stdout",
     "output_type": "stream",
     "text": [
      "Parsed 1 transactions\n",
      "Skipping SSC withdrawal...\n",
      "Parsed 101 transactions\n",
      "Parsed 201 transactions\n",
      "Parsed 301 transactions\n",
      "Parsed 401 transactions\n",
      "Parsed 501 transactions\n",
      "Parsed 601 transactions\n",
      "Parsed 701 transactions\n",
      "Parsed 801 transactions\n",
      "Parsed 901 transactions\n",
      "Parsed 1001 transactions\n",
      "Parsed 1101 transactions\n",
      "Parsed 1201 transactions\n",
      "Parsed 1301 transactions\n",
      "Parsed 1401 transactions\n",
      "Parsed 1501 transactions\n",
      "Parsed 1601 transactions\n",
      "Parsed 1701 transactions\n",
      "Parsed 1801 transactions\n",
      "Parsed 1901 transactions\n",
      "Parsed 2001 transactions\n",
      "Parsed 2101 transactions\n",
      "Parsed 2201 transactions\n",
      "Parsed 2301 transactions\n",
      "Parsed 2401 transactions\n",
      "Parsed 2501 transactions\n",
      "Parsed 2601 transactions\n",
      "Parsed 2701 transactions\n",
      "Parsed 2801 transactions\n",
      "Parsed 2901 transactions\n",
      "Parsed 3001 transactions\n",
      "Parsed 3101 transactions\n",
      "Parsed 3201 transactions\n",
      "Parsed 3301 transactions\n",
      "Parsed 3401 transactions\n",
      "Parsed 3501 transactions\n",
      "Parsed 3601 transactions\n",
      "Parsed 3701 transactions\n",
      "Parsed 3801 transactions\n",
      "Parsed 3901 transactions\n",
      "Parsed 4001 transactions\n",
      "Parsed 4101 transactions\n",
      "Parsed 4201 transactions\n",
      "Parsed 4301 transactions\n",
      "Parsed 4401 transactions\n",
      "Parsed 4501 transactions\n",
      "Parsed 4601 transactions\n",
      "Parsed 4701 transactions\n",
      "Parsed 4801 transactions\n",
      "Parsed 4901 transactions\n",
      "Parsed 5001 transactions\n",
      "Parsed 5101 transactions\n",
      "Parsed 5201 transactions\n",
      "Parsed 5301 transactions\n",
      "Parsed 5401 transactions\n",
      "Parsed 5501 transactions\n",
      "Parsed 5601 transactions\n",
      "Parsed 5701 transactions\n",
      "Parsed 5801 transactions\n",
      "Parsed 5901 transactions\n",
      "Parsed 6001 transactions\n",
      "Parsed 6101 transactions\n",
      "Parsed 6201 transactions\n",
      "Parsed 6301 transactions\n",
      "Parsed 6401 transactions\n",
      "Parsed 6501 transactions\n",
      "Parsed 6601 transactions\n",
      "Parsed 6701 transactions\n",
      "Parsed 6801 transactions\n",
      "Parsed 6901 transactions\n",
      "Parsed 7001 transactions\n",
      "Parsed 7101 transactions\n",
      "Parsed 7201 transactions\n",
      "Parsed 7301 transactions\n",
      "Parsed 7401 transactions\n",
      "Parsed 7501 transactions\n",
      "Parsed 7601 transactions\n",
      "Parsed 7701 transactions\n",
      "Parsed 7801 transactions\n",
      "Parsed 7901 transactions\n",
      "Parsed 8001 transactions\n",
      "Parsed 8101 transactions\n",
      "Parsed 8201 transactions\n",
      "Parsed 8301 transactions\n",
      "Parsed 8401 transactions\n",
      "Parsed 8501 transactions\n",
      "Parsed 8601 transactions\n",
      "Parsed 8701 transactions\n",
      "Parsed 8801 transactions\n",
      "Parsed 8901 transactions\n",
      "Parsed 9001 transactions\n",
      "Parsed 9101 transactions\n",
      "Parsed 9201 transactions\n",
      "Parsed 9301 transactions\n",
      "Parsed 9401 transactions\n",
      "Parsed 9501 transactions\n",
      "Parsed 9601 transactions\n",
      "Parsed 9701 transactions\n",
      "Parsed 9801 transactions\n",
      "Parsed 9901 transactions\n",
      "Parsed 10001 transactions\n",
      "Parsed 10101 transactions\n",
      "Parsed 10201 transactions\n",
      "Parsed 10301 transactions\n",
      "Parsed 10401 transactions\n",
      "Parsed 10501 transactions\n",
      "Parsed 10601 transactions\n",
      "Parsed 10701 transactions\n",
      "Parsed 10801 transactions\n",
      "Parsed 10901 transactions\n",
      "Parsed 11001 transactions\n",
      "Parsed 11101 transactions\n",
      "Parsed 11201 transactions\n",
      "Parsed 11301 transactions\n",
      "Parsed 11401 transactions\n",
      "Parsed 11501 transactions\n",
      "Parsed 11601 transactions\n",
      "Parsed 11701 transactions\n",
      "Parsed 11801 transactions\n",
      "Parsed 11901 transactions\n",
      "Parsed 12001 transactions\n",
      "Parsed 12101 transactions\n",
      "Parsed 12201 transactions\n",
      "Parsed 12301 transactions\n",
      "Parsed 12401 transactions\n",
      "Parsed 12501 transactions\n",
      "Parsed 12601 transactions\n",
      "Parsed 12701 transactions\n",
      "Parsed 12801 transactions\n",
      "Parsed 12901 transactions\n",
      "Parsed 13001 transactions\n",
      "Parsed 13101 transactions\n",
      "Parsed 13201 transactions\n",
      "Parsed 13301 transactions\n",
      "Parsed 13401 transactions\n",
      "Parsed 13501 transactions\n",
      "Parsed 13601 transactions\n",
      "Parsed 13701 transactions\n",
      "Parsed 13801 transactions\n",
      "Parsed 13901 transactions\n",
      "Parsed 14001 transactions\n",
      "Parsed 14101 transactions\n",
      "Parsed 14201 transactions\n",
      "Parsed 14301 transactions\n",
      "Parsed 14401 transactions\n",
      "Parsed 14501 transactions\n",
      "Parsed 14601 transactions\n",
      "Parsed 14701 transactions\n",
      "Parsed 14801 transactions\n",
      "Parsed 14901 transactions\n",
      "Parsed 15001 transactions\n",
      "Parsed 15101 transactions\n",
      "Parsed 15201 transactions\n",
      "Parsed 15301 transactions\n",
      "Parsed 15401 transactions\n",
      "Parsed 15501 transactions\n",
      "Parsed 15601 transactions\n",
      "Parsed 15701 transactions\n",
      "Parsed 15801 transactions\n",
      "Parsed 15901 transactions\n",
      "Parsed 16001 transactions\n",
      "Parsed 16101 transactions\n",
      "Parsed 16201 transactions\n",
      "Parsed 16301 transactions\n",
      "Parsed 16401 transactions\n",
      "Parsed 16501 transactions\n",
      "Parsed 16601 transactions\n",
      "Parsed 16701 transactions\n",
      "Parsed 16801 transactions\n",
      "Parsed 16901 transactions\n",
      "Parsed 17001 transactions\n",
      "Parsed 17101 transactions\n",
      "Parsed 17201 transactions\n",
      "Parsed 17301 transactions\n",
      "Parsed 17401 transactions\n",
      "Parsed 17501 transactions\n",
      "Parsed 17601 transactions\n",
      "Parsed 17701 transactions\n",
      "Parsed 17801 transactions\n",
      "Parsed 17901 transactions\n",
      "Parsed 18001 transactions\n",
      "Parsed 18101 transactions\n",
      "Parsed 18201 transactions\n",
      "Parsed 18301 transactions\n",
      "Parsed 18401 transactions\n",
      "Parsed 18501 transactions\n",
      "Parsed 18601 transactions\n",
      "Parsed 18701 transactions\n",
      "Parsed 18801 transactions\n",
      "Parsed 18901 transactions\n",
      "Parsed 19001 transactions\n",
      "Parsed 19101 transactions\n",
      "Parsed 19201 transactions\n",
      "Parsed 19301 transactions\n",
      "Parsed 19401 transactions\n",
      "Parsed 19501 transactions\n",
      "Parsed 19601 transactions\n",
      "Parsed 19701 transactions\n"
     ]
    },
    {
     "ename": "IndexError",
     "evalue": "list index out of range",
     "output_type": "error",
     "traceback": [
      "\u001b[0;31m---------------------------------------------------------------------------\u001b[0m",
      "\u001b[0;31mIndexError\u001b[0m                                Traceback (most recent call last)",
      "\u001b[0;32m/var/folders/d2/jw74dsb57mzbyspd_lk14njc0000gn/T/ipykernel_86790/3497228104.py\u001b[0m in \u001b[0;36m<module>\u001b[0;34m\u001b[0m\n\u001b[1;32m      4\u001b[0m \u001b[0;31m#         continue\u001b[0m\u001b[0;34m\u001b[0m\u001b[0;34m\u001b[0m\u001b[0;34m\u001b[0m\u001b[0m\n\u001b[1;32m      5\u001b[0m \u001b[0;31m#     print(f\"Result signature: {result['signature']}\")\u001b[0m\u001b[0;34m\u001b[0m\u001b[0;34m\u001b[0m\u001b[0;34m\u001b[0m\u001b[0m\n\u001b[0;32m----> 6\u001b[0;31m     \u001b[0mparsed_data\u001b[0m \u001b[0;34m=\u001b[0m \u001b[0;32mawait\u001b[0m \u001b[0mfetch_txn_details\u001b[0m\u001b[0;34m(\u001b[0m\u001b[0mresult\u001b[0m\u001b[0;34m[\u001b[0m\u001b[0;34m\"signature\"\u001b[0m\u001b[0;34m]\u001b[0m\u001b[0;34m)\u001b[0m\u001b[0;34m\u001b[0m\u001b[0;34m\u001b[0m\u001b[0m\n\u001b[0m\u001b[1;32m      7\u001b[0m     \u001b[0;32mif\u001b[0m \u001b[0mre\u001b[0m\u001b[0;34m.\u001b[0m\u001b[0msearch\u001b[0m\u001b[0;34m(\u001b[0m\u001b[0;34mr\"Shadow\"\u001b[0m\u001b[0;34m,\u001b[0m \u001b[0mparsed_data\u001b[0m\u001b[0;34m[\u001b[0m\u001b[0;34m\"depositor\"\u001b[0m\u001b[0;34m]\u001b[0m\u001b[0;34m)\u001b[0m\u001b[0;34m:\u001b[0m\u001b[0;34m\u001b[0m\u001b[0;34m\u001b[0m\u001b[0m\n\u001b[1;32m      8\u001b[0m         \u001b[0mprint\u001b[0m\u001b[0;34m(\u001b[0m\u001b[0;34m\"Skipping SSC withdrawal...\"\u001b[0m\u001b[0;34m)\u001b[0m\u001b[0;34m\u001b[0m\u001b[0;34m\u001b[0m\u001b[0m\n",
      "\u001b[0;32m/var/folders/d2/jw74dsb57mzbyspd_lk14njc0000gn/T/ipykernel_86790/4264874230.py\u001b[0m in \u001b[0;36mfetch_txn_details\u001b[0;34m(txn)\u001b[0m\n\u001b[1;32m      2\u001b[0m     \u001b[0;32masync\u001b[0m \u001b[0;32mwith\u001b[0m \u001b[0mAsyncClient\u001b[0m\u001b[0;34m(\u001b[0m\u001b[0mSSC_RPC_ENDPOINT\u001b[0m\u001b[0;34m)\u001b[0m \u001b[0;32mas\u001b[0m \u001b[0msol_client\u001b[0m\u001b[0;34m:\u001b[0m\u001b[0;34m\u001b[0m\u001b[0;34m\u001b[0m\u001b[0m\n\u001b[1;32m      3\u001b[0m         \u001b[0mtxn_details\u001b[0m \u001b[0;34m=\u001b[0m \u001b[0;32mawait\u001b[0m \u001b[0msol_client\u001b[0m\u001b[0;34m.\u001b[0m\u001b[0mget_transaction\u001b[0m\u001b[0;34m(\u001b[0m\u001b[0mtxn\u001b[0m\u001b[0;34m)\u001b[0m\u001b[0;34m\u001b[0m\u001b[0;34m\u001b[0m\u001b[0m\n\u001b[0;32m----> 4\u001b[0;31m     usdc_deposited = extract_usdc_deposited(\n\u001b[0m\u001b[1;32m      5\u001b[0m         \u001b[0mpre_balances\u001b[0m\u001b[0;34m=\u001b[0m\u001b[0mtxn_details\u001b[0m\u001b[0;34m[\u001b[0m\u001b[0;34m\"result\"\u001b[0m\u001b[0;34m]\u001b[0m\u001b[0;34m[\u001b[0m\u001b[0;34m\"meta\"\u001b[0m\u001b[0;34m]\u001b[0m\u001b[0;34m[\u001b[0m\u001b[0;34m\"preTokenBalances\"\u001b[0m\u001b[0;34m]\u001b[0m\u001b[0;34m,\u001b[0m\u001b[0;34m\u001b[0m\u001b[0;34m\u001b[0m\u001b[0m\n\u001b[1;32m      6\u001b[0m         \u001b[0mpost_balances\u001b[0m\u001b[0;34m=\u001b[0m\u001b[0mtxn_details\u001b[0m\u001b[0;34m[\u001b[0m\u001b[0;34m\"result\"\u001b[0m\u001b[0;34m]\u001b[0m\u001b[0;34m[\u001b[0m\u001b[0;34m\"meta\"\u001b[0m\u001b[0;34m]\u001b[0m\u001b[0;34m[\u001b[0m\u001b[0;34m\"postTokenBalances\"\u001b[0m\u001b[0;34m]\u001b[0m\u001b[0;34m\u001b[0m\u001b[0;34m\u001b[0m\u001b[0m\n",
      "\u001b[0;32m/var/folders/d2/jw74dsb57mzbyspd_lk14njc0000gn/T/ipykernel_86790/2619251300.py\u001b[0m in \u001b[0;36mextract_usdc_deposited\u001b[0;34m(pre_balances, post_balances)\u001b[0m\n\u001b[1;32m      6\u001b[0m     txn_pre_bal = [bal[\"uiTokenAmount\"][\"uiAmount\"] \\\n\u001b[1;32m      7\u001b[0m                    for bal in pre_balances if bal[\"mint\"] == USDC_TOKEN_ACCOUNT]\n\u001b[0;32m----> 8\u001b[0;31m     usdc_deposited = [sanitize_balances(balance=pre) - sanitize_balances(balance=post) \\\n\u001b[0m\u001b[1;32m      9\u001b[0m      for pre, post in list(zip(txn_pre_bal, txn_post_bal))][1]\n\u001b[1;32m     10\u001b[0m     \u001b[0;32mreturn\u001b[0m \u001b[0musdc_deposited\u001b[0m\u001b[0;34m\u001b[0m\u001b[0;34m\u001b[0m\u001b[0m\n",
      "\u001b[0;31mIndexError\u001b[0m: list index out of range"
     ]
    }
   ],
   "source": [
    "parsed_txn_list = []\n",
    "for idx, result in enumerate(results):\n",
    "#     if idx < 1961:\n",
    "#         continue\n",
    "#     print(f\"Result signature: {result['signature']}\")\n",
    "    parsed_data = await fetch_txn_details(result[\"signature\"])\n",
    "    if re.search(r\"Shadow\", parsed_data[\"depositor\"]):\n",
    "        print(\"Skipping SSC withdrawal...\")\n",
    "        continue\n",
    "    if idx % 100 == 0:\n",
    "        print(f\"Parsed {idx + 1} transactions\")\n",
    "    parsed_txn_list.append(parsed_data)"
   ]
  },
  {
   "cell_type": "code",
   "execution_count": 256,
   "id": "33645d8d",
   "metadata": {},
   "outputs": [
    {
     "data": {
      "text/plain": [
       "19721"
      ]
     },
     "execution_count": 256,
     "metadata": {},
     "output_type": "execute_result"
    }
   ],
   "source": [
    "len(parsed_txn_list)"
   ]
  },
  {
   "cell_type": "code",
   "execution_count": 274,
   "id": "a044cf6e",
   "metadata": {},
   "outputs": [
    {
     "data": {
      "text/plain": [
       "{'usdc_amount': 300.0,\n",
       " 'sol_amount': 300.0,\n",
       " 'shdw_tokens': 174.41860465116278,\n",
       " 'depositor': 'En7xnEFGLQkvz5DKV8Ln6SNbLWbJ7Me2KyQgZpNjztsg',\n",
       " 'time_deposited': datetime.datetime(2022, 1, 3, 19, 30, 2),\n",
       " 'txn_status': 'success'}"
      ]
     },
     "execution_count": 274,
     "metadata": {},
     "output_type": "execute_result"
    }
   ],
   "source": [
    "parsed_txn_list[-109]"
   ]
  },
  {
   "cell_type": "code",
   "execution_count": 280,
   "id": "c1d3dc0a",
   "metadata": {},
   "outputs": [],
   "source": [
    "ssc_ido_txns_df = pd.DataFrame(parsed_txn_list)"
   ]
  },
  {
   "cell_type": "code",
   "execution_count": 281,
   "id": "2773cdf8",
   "metadata": {},
   "outputs": [
    {
     "data": {
      "text/html": [
       "<div>\n",
       "<style scoped>\n",
       "    .dataframe tbody tr th:only-of-type {\n",
       "        vertical-align: middle;\n",
       "    }\n",
       "\n",
       "    .dataframe tbody tr th {\n",
       "        vertical-align: top;\n",
       "    }\n",
       "\n",
       "    .dataframe thead th {\n",
       "        text-align: right;\n",
       "    }\n",
       "</style>\n",
       "<table border=\"1\" class=\"dataframe\">\n",
       "  <thead>\n",
       "    <tr style=\"text-align: right;\">\n",
       "      <th></th>\n",
       "      <th>usdc_amount</th>\n",
       "      <th>sol_amount</th>\n",
       "      <th>shdw_tokens</th>\n",
       "      <th>depositor</th>\n",
       "      <th>time_deposited</th>\n",
       "      <th>txn_status</th>\n",
       "    </tr>\n",
       "  </thead>\n",
       "  <tbody>\n",
       "    <tr>\n",
       "      <th>0</th>\n",
       "      <td>0.0</td>\n",
       "      <td>0.0</td>\n",
       "      <td>0.0</td>\n",
       "      <td></td>\n",
       "      <td>2022-01-04 19:58:41</td>\n",
       "      <td>failure</td>\n",
       "    </tr>\n",
       "    <tr>\n",
       "      <th>1</th>\n",
       "      <td>0.0</td>\n",
       "      <td>0.0</td>\n",
       "      <td>0.0</td>\n",
       "      <td></td>\n",
       "      <td>2022-01-04 19:58:28</td>\n",
       "      <td>failure</td>\n",
       "    </tr>\n",
       "    <tr>\n",
       "      <th>2</th>\n",
       "      <td>0.0</td>\n",
       "      <td>0.0</td>\n",
       "      <td>0.0</td>\n",
       "      <td></td>\n",
       "      <td>2022-01-04 19:58:14</td>\n",
       "      <td>failure</td>\n",
       "    </tr>\n",
       "    <tr>\n",
       "      <th>3</th>\n",
       "      <td>0.0</td>\n",
       "      <td>0.0</td>\n",
       "      <td>0.0</td>\n",
       "      <td></td>\n",
       "      <td>2022-01-04 19:58:01</td>\n",
       "      <td>failure</td>\n",
       "    </tr>\n",
       "    <tr>\n",
       "      <th>4</th>\n",
       "      <td>0.0</td>\n",
       "      <td>0.0</td>\n",
       "      <td>0.0</td>\n",
       "      <td></td>\n",
       "      <td>2022-01-04 19:55:27</td>\n",
       "      <td>failure</td>\n",
       "    </tr>\n",
       "  </tbody>\n",
       "</table>\n",
       "</div>"
      ],
      "text/plain": [
       "   usdc_amount  sol_amount  shdw_tokens depositor      time_deposited  \\\n",
       "0          0.0         0.0          0.0           2022-01-04 19:58:41   \n",
       "1          0.0         0.0          0.0           2022-01-04 19:58:28   \n",
       "2          0.0         0.0          0.0           2022-01-04 19:58:14   \n",
       "3          0.0         0.0          0.0           2022-01-04 19:58:01   \n",
       "4          0.0         0.0          0.0           2022-01-04 19:55:27   \n",
       "\n",
       "  txn_status  \n",
       "0    failure  \n",
       "1    failure  \n",
       "2    failure  \n",
       "3    failure  \n",
       "4    failure  "
      ]
     },
     "execution_count": 281,
     "metadata": {},
     "output_type": "execute_result"
    }
   ],
   "source": [
    "ssc_ido_txns_df.head()"
   ]
  },
  {
   "cell_type": "code",
   "execution_count": 282,
   "id": "268dad27",
   "metadata": {},
   "outputs": [
    {
     "data": {
      "text/plain": [
       "(18559, 6)"
      ]
     },
     "execution_count": 282,
     "metadata": {},
     "output_type": "execute_result"
    }
   ],
   "source": [
    "ssc_ido_txns_df.query('txn_status == \"success\"').shape"
   ]
  },
  {
   "cell_type": "code",
   "execution_count": 283,
   "id": "65fa6ca8",
   "metadata": {},
   "outputs": [
    {
     "data": {
      "text/html": [
       "<div>\n",
       "<style scoped>\n",
       "    .dataframe tbody tr th:only-of-type {\n",
       "        vertical-align: middle;\n",
       "    }\n",
       "\n",
       "    .dataframe tbody tr th {\n",
       "        vertical-align: top;\n",
       "    }\n",
       "\n",
       "    .dataframe thead th {\n",
       "        text-align: right;\n",
       "    }\n",
       "</style>\n",
       "<table border=\"1\" class=\"dataframe\">\n",
       "  <thead>\n",
       "    <tr style=\"text-align: right;\">\n",
       "      <th></th>\n",
       "      <th>usdc_amount</th>\n",
       "      <th>sol_amount</th>\n",
       "      <th>shdw_tokens</th>\n",
       "      <th>depositor</th>\n",
       "      <th>time_deposited</th>\n",
       "      <th>txn_status</th>\n",
       "    </tr>\n",
       "  </thead>\n",
       "  <tbody>\n",
       "    <tr>\n",
       "      <th>59</th>\n",
       "      <td>20.000000</td>\n",
       "      <td>20.000000</td>\n",
       "      <td>11.627907</td>\n",
       "      <td>3ZW9VXNriCBKLhSjkA6WMkmYWVfzDGBTHMYn3dB5rtNY</td>\n",
       "      <td>2022-01-04 19:29:59</td>\n",
       "      <td>success</td>\n",
       "    </tr>\n",
       "    <tr>\n",
       "      <th>60</th>\n",
       "      <td>313.356184</td>\n",
       "      <td>313.356184</td>\n",
       "      <td>182.183828</td>\n",
       "      <td>GPxK4UCtUp9rPcETBeVtjTje2GCrpA1bGZEJDyqXvkyb</td>\n",
       "      <td>2022-01-04 19:29:59</td>\n",
       "      <td>success</td>\n",
       "    </tr>\n",
       "    <tr>\n",
       "      <th>61</th>\n",
       "      <td>374.664532</td>\n",
       "      <td>374.664532</td>\n",
       "      <td>217.828216</td>\n",
       "      <td>4GgGxuSTjiWiyKozK7qJ19C7a6cg6Sk8KLGHy8dFBkV7</td>\n",
       "      <td>2022-01-04 19:29:59</td>\n",
       "      <td>success</td>\n",
       "    </tr>\n",
       "    <tr>\n",
       "      <th>62</th>\n",
       "      <td>5000.000000</td>\n",
       "      <td>5000.000000</td>\n",
       "      <td>2906.976744</td>\n",
       "      <td>CjZ1BvauPNUKcRM5hHJQJse9Kc3gTAaCYrXdcWjd5xaX</td>\n",
       "      <td>2022-01-04 19:29:59</td>\n",
       "      <td>success</td>\n",
       "    </tr>\n",
       "    <tr>\n",
       "      <th>63</th>\n",
       "      <td>1000.000000</td>\n",
       "      <td>1000.000000</td>\n",
       "      <td>581.395349</td>\n",
       "      <td>6YMs5WVGT7np1yR5Wqgjn3r4UyApTRgQUeCiPJKihHUz</td>\n",
       "      <td>2022-01-04 19:29:59</td>\n",
       "      <td>success</td>\n",
       "    </tr>\n",
       "    <tr>\n",
       "      <th>...</th>\n",
       "      <td>...</td>\n",
       "      <td>...</td>\n",
       "      <td>...</td>\n",
       "      <td>...</td>\n",
       "      <td>...</td>\n",
       "      <td>...</td>\n",
       "    </tr>\n",
       "    <tr>\n",
       "      <th>19608</th>\n",
       "      <td>86.208556</td>\n",
       "      <td>86.208556</td>\n",
       "      <td>50.121253</td>\n",
       "      <td>3Hh5hhtURB7a2Mq8zJcuLo3oZiSxLDveFffEdoF3bW5Z</td>\n",
       "      <td>2022-01-03 19:30:05</td>\n",
       "      <td>success</td>\n",
       "    </tr>\n",
       "    <tr>\n",
       "      <th>19609</th>\n",
       "      <td>48.558871</td>\n",
       "      <td>48.558871</td>\n",
       "      <td>28.231902</td>\n",
       "      <td>CBo6vBPz1A8MK2bSUHvJyX7k2cv5JtGTsNxDp2T4NC3w</td>\n",
       "      <td>2022-01-03 19:30:03</td>\n",
       "      <td>success</td>\n",
       "    </tr>\n",
       "    <tr>\n",
       "      <th>19610</th>\n",
       "      <td>50.000000</td>\n",
       "      <td>50.000000</td>\n",
       "      <td>29.069767</td>\n",
       "      <td>2ZFuL7rVYLsfDqdKPU6TRoC6GnQ2ZBLmXNUdd3BxT66P</td>\n",
       "      <td>2022-01-03 19:30:03</td>\n",
       "      <td>success</td>\n",
       "    </tr>\n",
       "    <tr>\n",
       "      <th>19611</th>\n",
       "      <td>50.000000</td>\n",
       "      <td>50.000000</td>\n",
       "      <td>29.069767</td>\n",
       "      <td>A49xd7dQBa38oCrnkaX6Hcy1FNDEvT8ZcwnuXET3dWTb</td>\n",
       "      <td>2022-01-03 19:30:03</td>\n",
       "      <td>success</td>\n",
       "    </tr>\n",
       "    <tr>\n",
       "      <th>19612</th>\n",
       "      <td>300.000000</td>\n",
       "      <td>300.000000</td>\n",
       "      <td>174.418605</td>\n",
       "      <td>En7xnEFGLQkvz5DKV8Ln6SNbLWbJ7Me2KyQgZpNjztsg</td>\n",
       "      <td>2022-01-03 19:30:02</td>\n",
       "      <td>success</td>\n",
       "    </tr>\n",
       "  </tbody>\n",
       "</table>\n",
       "<p>18559 rows × 6 columns</p>\n",
       "</div>"
      ],
      "text/plain": [
       "       usdc_amount   sol_amount  shdw_tokens  \\\n",
       "59       20.000000    20.000000    11.627907   \n",
       "60      313.356184   313.356184   182.183828   \n",
       "61      374.664532   374.664532   217.828216   \n",
       "62     5000.000000  5000.000000  2906.976744   \n",
       "63     1000.000000  1000.000000   581.395349   \n",
       "...            ...          ...          ...   \n",
       "19608    86.208556    86.208556    50.121253   \n",
       "19609    48.558871    48.558871    28.231902   \n",
       "19610    50.000000    50.000000    29.069767   \n",
       "19611    50.000000    50.000000    29.069767   \n",
       "19612   300.000000   300.000000   174.418605   \n",
       "\n",
       "                                          depositor      time_deposited  \\\n",
       "59     3ZW9VXNriCBKLhSjkA6WMkmYWVfzDGBTHMYn3dB5rtNY 2022-01-04 19:29:59   \n",
       "60     GPxK4UCtUp9rPcETBeVtjTje2GCrpA1bGZEJDyqXvkyb 2022-01-04 19:29:59   \n",
       "61     4GgGxuSTjiWiyKozK7qJ19C7a6cg6Sk8KLGHy8dFBkV7 2022-01-04 19:29:59   \n",
       "62     CjZ1BvauPNUKcRM5hHJQJse9Kc3gTAaCYrXdcWjd5xaX 2022-01-04 19:29:59   \n",
       "63     6YMs5WVGT7np1yR5Wqgjn3r4UyApTRgQUeCiPJKihHUz 2022-01-04 19:29:59   \n",
       "...                                             ...                 ...   \n",
       "19608  3Hh5hhtURB7a2Mq8zJcuLo3oZiSxLDveFffEdoF3bW5Z 2022-01-03 19:30:05   \n",
       "19609  CBo6vBPz1A8MK2bSUHvJyX7k2cv5JtGTsNxDp2T4NC3w 2022-01-03 19:30:03   \n",
       "19610  2ZFuL7rVYLsfDqdKPU6TRoC6GnQ2ZBLmXNUdd3BxT66P 2022-01-03 19:30:03   \n",
       "19611  A49xd7dQBa38oCrnkaX6Hcy1FNDEvT8ZcwnuXET3dWTb 2022-01-03 19:30:03   \n",
       "19612  En7xnEFGLQkvz5DKV8Ln6SNbLWbJ7Me2KyQgZpNjztsg 2022-01-03 19:30:02   \n",
       "\n",
       "      txn_status  \n",
       "59       success  \n",
       "60       success  \n",
       "61       success  \n",
       "62       success  \n",
       "63       success  \n",
       "...          ...  \n",
       "19608    success  \n",
       "19609    success  \n",
       "19610    success  \n",
       "19611    success  \n",
       "19612    success  \n",
       "\n",
       "[18559 rows x 6 columns]"
      ]
     },
     "execution_count": 283,
     "metadata": {},
     "output_type": "execute_result"
    }
   ],
   "source": [
    "ssc_ido_txns_df.query('txn_status == \"success\"')"
   ]
  },
  {
   "cell_type": "code",
   "execution_count": 331,
   "id": "40b71acc",
   "metadata": {},
   "outputs": [],
   "source": [
    "ssc_ido_txns_df[\"shdw_tokens_recieved\"] = ssc_ido_txns_df.usdc_amount / FINAL_SHDW_PRICE"
   ]
  },
  {
   "cell_type": "code",
   "execution_count": 335,
   "id": "abec2fd7",
   "metadata": {},
   "outputs": [],
   "source": [
    "ssc_ido_txns_df.drop(columns=[\"shdw_tokens\"], inplace=True)"
   ]
  },
  {
   "cell_type": "markdown",
   "id": "1721432e",
   "metadata": {},
   "source": [
    "### Save data to local disk"
   ]
  },
  {
   "cell_type": "code",
   "execution_count": 336,
   "id": "3a793b3e",
   "metadata": {},
   "outputs": [],
   "source": [
    "ssc_ido_txns_df.to_csv(\"../data/ssc_ido_txn_data.csv\")"
   ]
  },
  {
   "cell_type": "markdown",
   "id": "abeb57cc",
   "metadata": {},
   "source": [
    "### Add few more tables for doing analysis"
   ]
  },
  {
   "cell_type": "code",
   "execution_count": null,
   "id": "b6d99d3d",
   "metadata": {},
   "outputs": [],
   "source": []
  },
  {
   "cell_type": "code",
   "execution_count": null,
   "id": "3752e0f9",
   "metadata": {},
   "outputs": [],
   "source": []
  },
  {
   "cell_type": "markdown",
   "id": "431919ac",
   "metadata": {},
   "source": [
    "### Save data to planetscale DB"
   ]
  },
  {
   "cell_type": "code",
   "execution_count": null,
   "id": "d35e02c5",
   "metadata": {},
   "outputs": [],
   "source": []
  },
  {
   "cell_type": "code",
   "execution_count": null,
   "id": "ad074c53",
   "metadata": {},
   "outputs": [],
   "source": []
  },
  {
   "cell_type": "code",
   "execution_count": null,
   "id": "5bff7496",
   "metadata": {},
   "outputs": [],
   "source": []
  }
 ],
 "metadata": {
  "kernelspec": {
   "display_name": "Python 3 (ipykernel)",
   "language": "python",
   "name": "python3"
  },
  "language_info": {
   "codemirror_mode": {
    "name": "ipython",
    "version": 3
   },
   "file_extension": ".py",
   "mimetype": "text/x-python",
   "name": "python",
   "nbconvert_exporter": "python",
   "pygments_lexer": "ipython3",
   "version": "3.9.6"
  }
 },
 "nbformat": 4,
 "nbformat_minor": 5
}
